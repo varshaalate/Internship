{
 "cells": [
  {
   "cell_type": "markdown",
   "id": "430bc980",
   "metadata": {},
   "source": [
    "Import Libraries & Dataset"
   ]
  },
  {
   "cell_type": "code",
   "execution_count": null,
   "id": "01c50882",
   "metadata": {},
   "outputs": [],
   "source": []
  },
  {
   "cell_type": "markdown",
   "id": "32b2adbc",
   "metadata": {},
   "source": [
    "Create a basic Violin plot on one NUMERIC variable e.g. Total"
   ]
  },
  {
   "cell_type": "code",
   "execution_count": null,
   "id": "de237a57",
   "metadata": {},
   "outputs": [],
   "source": []
  },
  {
   "cell_type": "markdown",
   "id": "93fdce40",
   "metadata": {},
   "source": [
    "Create a VIOLINPLOT on two categorical and one numeric variable and use split"
   ]
  },
  {
   "cell_type": "code",
   "execution_count": null,
   "id": "05b90dd7",
   "metadata": {},
   "outputs": [],
   "source": []
  },
  {
   "cell_type": "markdown",
   "id": "717bbe23",
   "metadata": {},
   "source": [
    "Change the box in the VIOLINPLOT to horzontal lines"
   ]
  },
  {
   "cell_type": "code",
   "execution_count": null,
   "id": "214d4b26",
   "metadata": {},
   "outputs": [],
   "source": []
  },
  {
   "cell_type": "markdown",
   "id": "8a5b7891",
   "metadata": {},
   "source": [
    "Draw line for each observations in a VIOLINPLOT"
   ]
  },
  {
   "cell_type": "code",
   "execution_count": null,
   "id": "6efe07d3",
   "metadata": {},
   "outputs": [],
   "source": []
  },
  {
   "cell_type": "markdown",
   "id": "271aa20d",
   "metadata": {},
   "source": [
    "Change the amount of smoothing using bw attribut"
   ]
  },
  {
   "cell_type": "code",
   "execution_count": null,
   "id": "d6c6ccb2",
   "metadata": {},
   "outputs": [],
   "source": []
  },
  {
   "cell_type": "markdown",
   "id": "6a369a68",
   "metadata": {},
   "source": [
    "Cut out the extreme values"
   ]
  },
  {
   "cell_type": "code",
   "execution_count": null,
   "id": "f3bbd7ef",
   "metadata": {},
   "outputs": [],
   "source": []
  }
 ],
 "metadata": {
  "kernelspec": {
   "display_name": "Python 3 (ipykernel)",
   "language": "python",
   "name": "python3"
  },
  "language_info": {
   "codemirror_mode": {
    "name": "ipython",
    "version": 3
   },
   "file_extension": ".py",
   "mimetype": "text/x-python",
   "name": "python",
   "nbconvert_exporter": "python",
   "pygments_lexer": "ipython3",
   "version": "3.9.7"
  }
 },
 "nbformat": 4,
 "nbformat_minor": 5
}
