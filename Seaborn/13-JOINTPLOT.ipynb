{
 "cells": [
  {
   "cell_type": "markdown",
   "id": "63c06019",
   "metadata": {},
   "source": [
    "IMPORT DATA SET"
   ]
  },
  {
   "cell_type": "code",
   "execution_count": 79,
   "id": "19f4cc34",
   "metadata": {},
   "outputs": [],
   "source": [
    "import pandas as pd\n",
    "import numpy as np\n",
    "import matplotlib.pyplot as plt\n",
    "import seaborn as sns\n",
    "import statistics as sts\n",
    "\n",
    "iris = sns.load_dataset('iris')\n",
    "\n"
   ]
  },
  {
   "cell_type": "markdown",
   "id": "340998ef",
   "metadata": {},
   "source": [
    "Drawing a first basic JOINT Plot with x='sepal_length',y='petal_length'"
   ]
  },
  {
   "cell_type": "code",
   "execution_count": null,
   "id": "840c1543",
   "metadata": {},
   "outputs": [],
   "source": [
    "\n"
   ]
  },
  {
   "cell_type": "markdown",
   "id": "feee8ff5",
   "metadata": {},
   "source": [
    "Change its kind to “scatter”|“kde”|“hist”|“hex”|“reg”|“resid”')"
   ]
  },
  {
   "cell_type": "code",
   "execution_count": null,
   "id": "362eb027",
   "metadata": {},
   "outputs": [],
   "source": []
  },
  {
   "cell_type": "markdown",
   "id": "21449997",
   "metadata": {},
   "source": [
    "Grouping based on a categorical variable species"
   ]
  },
  {
   "cell_type": "code",
   "execution_count": null,
   "id": "a584e6d7",
   "metadata": {},
   "outputs": [],
   "source": []
  },
  {
   "cell_type": "markdown",
   "id": "3010ceee",
   "metadata": {},
   "source": [
    "Adjust height, ratio, space and show/hide the marginal_ticks"
   ]
  },
  {
   "cell_type": "code",
   "execution_count": null,
   "id": "bd910b16",
   "metadata": {},
   "outputs": [],
   "source": [
    "sns.jointplot(data=iris,x='sepal_length',y='petal_length'\n",
    "             ,height=5\n",
    "             ,ratio=3\n",
    "#              ,space=5\n",
    "             ,marginal_ticks=True)"
   ]
  },
  {
   "cell_type": "markdown",
   "id": "e138227f",
   "metadata": {},
   "source": [
    "Plot KDE and RUG on top of Joint Plot"
   ]
  },
  {
   "cell_type": "code",
   "execution_count": null,
   "id": "d1045fb0",
   "metadata": {},
   "outputs": [],
   "source": [
    "l=sns.jointplot(data=iris,x='sepal_length',y='petal_length',joint_kws=dict(color='red'))\n",
    "l.plot_joint(sns.kdeplot)\n",
    "l.plot_joint(sns.rugplot,height=0.1,color='red')"
   ]
  },
  {
   "cell_type": "code",
   "execution_count": null,
   "id": "0ecaff4a",
   "metadata": {},
   "outputs": [],
   "source": []
  }
 ],
 "metadata": {
  "kernelspec": {
   "display_name": "Python 3 (ipykernel)",
   "language": "python",
   "name": "python3"
  },
  "language_info": {
   "codemirror_mode": {
    "name": "ipython",
    "version": 3
   },
   "file_extension": ".py",
   "mimetype": "text/x-python",
   "name": "python",
   "nbconvert_exporter": "python",
   "pygments_lexer": "ipython3",
   "version": "3.9.7"
  }
 },
 "nbformat": 4,
 "nbformat_minor": 5
}
