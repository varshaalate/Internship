{
 "cells": [
  {
   "cell_type": "markdown",
   "id": "38a89562",
   "metadata": {},
   "source": [
    "IMPORT DATA SET"
   ]
  },
  {
   "cell_type": "code",
   "execution_count": 47,
   "id": "c1b6c48a",
   "metadata": {},
   "outputs": [],
   "source": [
    "\n",
    "\n"
   ]
  },
  {
   "cell_type": "markdown",
   "id": "aa879c24",
   "metadata": {},
   "source": [
    "Create a basic KDE plot for [Total] column"
   ]
  },
  {
   "cell_type": "code",
   "execution_count": null,
   "id": "76b68d6e",
   "metadata": {},
   "outputs": [],
   "source": []
  },
  {
   "cell_type": "markdown",
   "id": "b614bde2",
   "metadata": {},
   "source": [
    " Create KDE for all the numeric variables in dataframe"
   ]
  },
  {
   "cell_type": "code",
   "execution_count": null,
   "id": "ecd884b8",
   "metadata": {},
   "outputs": [],
   "source": []
  },
  {
   "cell_type": "markdown",
   "id": "d4919505",
   "metadata": {},
   "source": [
    "Adjust the smooting using bw_adjust"
   ]
  },
  {
   "cell_type": "code",
   "execution_count": null,
   "id": "996da04f",
   "metadata": {},
   "outputs": [],
   "source": []
  },
  {
   "cell_type": "markdown",
   "id": "e597ff73",
   "metadata": {},
   "source": [
    "Group the KDE on a category variable [Payment]"
   ]
  },
  {
   "cell_type": "code",
   "execution_count": null,
   "id": "9cef6b25",
   "metadata": {},
   "outputs": [],
   "source": []
  },
  {
   "cell_type": "markdown",
   "id": "914f6e2e",
   "metadata": {},
   "source": [
    "Stack KDE on a category using MULTIPLE arguement"
   ]
  },
  {
   "cell_type": "code",
   "execution_count": null,
   "id": "d41f7fdd",
   "metadata": {},
   "outputs": [],
   "source": []
  },
  {
   "cell_type": "markdown",
   "id": "dc3f632c",
   "metadata": {},
   "source": [
    "Use log scaling to map the variable in KDE [log_scale=True]"
   ]
  },
  {
   "cell_type": "code",
   "execution_count": null,
   "id": "d4296211",
   "metadata": {},
   "outputs": [],
   "source": []
  },
  {
   "cell_type": "markdown",
   "id": "33bd0e6b",
   "metadata": {},
   "source": [
    "Change styling of hued KDE using linewidth, palette, alpha etc..."
   ]
  },
  {
   "cell_type": "code",
   "execution_count": null,
   "id": "c32a4b57",
   "metadata": {},
   "outputs": [],
   "source": []
  },
  {
   "cell_type": "markdown",
   "id": "dc110267",
   "metadata": {},
   "source": [
    "Group the bivariate KDE on a categorical variable and show the contours [ x=unit price , y = gross income hue =gender ]"
   ]
  },
  {
   "cell_type": "code",
   "execution_count": null,
   "id": "b93428d1",
   "metadata": {},
   "outputs": [],
   "source": []
  },
  {
   "cell_type": "code",
   "execution_count": null,
   "id": "f8da746f",
   "metadata": {},
   "outputs": [],
   "source": []
  }
 ],
 "metadata": {
  "kernelspec": {
   "display_name": "Python 3 (ipykernel)",
   "language": "python",
   "name": "python3"
  },
  "language_info": {
   "codemirror_mode": {
    "name": "ipython",
    "version": 3
   },
   "file_extension": ".py",
   "mimetype": "text/x-python",
   "name": "python",
   "nbconvert_exporter": "python",
   "pygments_lexer": "ipython3",
   "version": "3.9.7"
  }
 },
 "nbformat": 4,
 "nbformat_minor": 5
}
