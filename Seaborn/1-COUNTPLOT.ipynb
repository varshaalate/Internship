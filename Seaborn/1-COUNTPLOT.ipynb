{
 "cells": [
  {
   "cell_type": "markdown",
   "id": "0aa6dda6",
   "metadata": {},
   "source": [
    "Read SuperMarketSales Data Set"
   ]
  },
  {
   "cell_type": "code",
   "execution_count": null,
   "id": "3a3184dd",
   "metadata": {},
   "outputs": [],
   "source": []
  },
  {
   "cell_type": "markdown",
   "id": "ba8199de",
   "metadata": {},
   "source": [
    "Create a basic COUNTPLOT to get number of transaction for each of the product line and change the figure size"
   ]
  },
  {
   "cell_type": "code",
   "execution_count": null,
   "id": "65c6ca02",
   "metadata": {},
   "outputs": [],
   "source": []
  },
  {
   "cell_type": "markdown",
   "id": "5c33a3d8",
   "metadata": {},
   "source": [
    "Make it horizontal bar plot"
   ]
  },
  {
   "cell_type": "code",
   "execution_count": null,
   "id": "b81b5a75",
   "metadata": {},
   "outputs": [],
   "source": []
  },
  {
   "cell_type": "raw",
   "id": "f980b887",
   "metadata": {},
   "source": [
    "Add hue to get the count on two categories i.e. Product line and Gender"
   ]
  },
  {
   "cell_type": "code",
   "execution_count": null,
   "id": "9fc4fe47",
   "metadata": {},
   "outputs": [],
   "source": []
  },
  {
   "cell_type": "markdown",
   "id": "85de337d",
   "metadata": {},
   "source": [
    "Using different color palette"
   ]
  },
  {
   "cell_type": "code",
   "execution_count": null,
   "id": "c2d44f79",
   "metadata": {},
   "outputs": [],
   "source": []
  },
  {
   "cell_type": "markdown",
   "id": "a6fc074f",
   "metadata": {},
   "source": [
    "Change Style using facecolor, linewidth and edge color"
   ]
  },
  {
   "cell_type": "code",
   "execution_count": null,
   "id": "4865932b",
   "metadata": {},
   "outputs": [],
   "source": [
    "plt.figure(figsize=(15,5))\n",
    "sns.countplot(x='Product line',data=mart,facecolor = (0,0,0,0) ,linewidth=5 ,edgecolor=sns.color_palette('dark',3))"
   ]
  }
 ],
 "metadata": {
  "kernelspec": {
   "display_name": "Python 3 (ipykernel)",
   "language": "python",
   "name": "python3"
  },
  "language_info": {
   "codemirror_mode": {
    "name": "ipython",
    "version": 3
   },
   "file_extension": ".py",
   "mimetype": "text/x-python",
   "name": "python",
   "nbconvert_exporter": "python",
   "pygments_lexer": "ipython3",
   "version": "3.9.7"
  }
 },
 "nbformat": 4,
 "nbformat_minor": 5
}
