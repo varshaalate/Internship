{
 "cells": [
  {
   "cell_type": "markdown",
   "id": "cc7799d1",
   "metadata": {},
   "source": [
    "IMPORT DATA SET"
   ]
  },
  {
   "cell_type": "code",
   "execution_count": null,
   "id": "a1c30c38",
   "metadata": {},
   "outputs": [],
   "source": [
    "\n"
   ]
  },
  {
   "cell_type": "markdown",
   "id": "7675972f",
   "metadata": {},
   "source": [
    " Create a basic RUG plot for one variable - Unit Price"
   ]
  },
  {
   "cell_type": "code",
   "execution_count": null,
   "id": "ac6e945e",
   "metadata": {},
   "outputs": [],
   "source": []
  },
  {
   "cell_type": "markdown",
   "id": "c5a7e8bc",
   "metadata": {},
   "source": [
    "Create a RUG plot for two variables - Unit Price , gross income"
   ]
  },
  {
   "cell_type": "code",
   "execution_count": null,
   "id": "9b6156a3",
   "metadata": {},
   "outputs": [],
   "source": []
  },
  {
   "cell_type": "markdown",
   "id": "67be95f3",
   "metadata": {},
   "source": [
    "Group it by a categorical variable using hue - Gender"
   ]
  },
  {
   "cell_type": "code",
   "execution_count": null,
   "id": "f6ba0fdb",
   "metadata": {},
   "outputs": [],
   "source": []
  },
  {
   "cell_type": "markdown",
   "id": "8882f10e",
   "metadata": {},
   "source": [
    "Change the height of Rugs in the RUG Plot"
   ]
  },
  {
   "cell_type": "code",
   "execution_count": null,
   "id": "b1ec5489",
   "metadata": {},
   "outputs": [],
   "source": []
  },
  {
   "cell_type": "markdown",
   "id": "bfef4532",
   "metadata": {},
   "source": [
    " Combine this with a KDE Plot"
   ]
  },
  {
   "cell_type": "code",
   "execution_count": null,
   "id": "8f681176",
   "metadata": {},
   "outputs": [],
   "source": [
    "plt.figure(figsize=(15,5))\n",
    "sns.kdeplot(data=mart, x='Unit price',y='gross income',hue='Gender',fill=True)\n",
    "sns.rugplot(data=mart, x='Unit price',y='gross income',hue='Gender')"
   ]
  },
  {
   "cell_type": "markdown",
   "id": "4648cbad",
   "metadata": {},
   "source": [
    "Combine this with a SCATTER PLOT"
   ]
  },
  {
   "cell_type": "code",
   "execution_count": null,
   "id": "25bf7768",
   "metadata": {},
   "outputs": [],
   "source": []
  },
  {
   "cell_type": "markdown",
   "id": "cd8469fd",
   "metadata": {},
   "source": [
    "Show Rugs outside of the Axis"
   ]
  },
  {
   "cell_type": "code",
   "execution_count": null,
   "id": "a7b2f2c6",
   "metadata": {},
   "outputs": [],
   "source": [
    "plt.figure(figsize=(15,5))\n",
    "sns.kdeplot(data=mart, x='Unit price',y='gross income',hue='Gender',fill=True)\n",
    "sns.rugplot(data=mart, x='Unit price',y='gross income',hue='Gender',height=-0.01,clip_on=False)"
   ]
  },
  {
   "cell_type": "code",
   "execution_count": null,
   "id": "354bcebd",
   "metadata": {},
   "outputs": [],
   "source": []
  }
 ],
 "metadata": {
  "kernelspec": {
   "display_name": "Python 3 (ipykernel)",
   "language": "python",
   "name": "python3"
  },
  "language_info": {
   "codemirror_mode": {
    "name": "ipython",
    "version": 3
   },
   "file_extension": ".py",
   "mimetype": "text/x-python",
   "name": "python",
   "nbconvert_exporter": "python",
   "pygments_lexer": "ipython3",
   "version": "3.9.7"
  }
 },
 "nbformat": 4,
 "nbformat_minor": 5
}
