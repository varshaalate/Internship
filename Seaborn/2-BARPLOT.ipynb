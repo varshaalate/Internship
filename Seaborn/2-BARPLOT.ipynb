{
 "cells": [
  {
   "cell_type": "markdown",
   "id": "10495989",
   "metadata": {},
   "source": [
    "Display the SEBORN dataset names and load one of them for example"
   ]
  },
  {
   "cell_type": "code",
   "execution_count": null,
   "id": "0cd22eba",
   "metadata": {},
   "outputs": [],
   "source": []
  },
  {
   "cell_type": "markdown",
   "id": "118fd206",
   "metadata": {},
   "source": [
    "Import Sales Dataset "
   ]
  },
  {
   "cell_type": "code",
   "execution_count": null,
   "id": "8616aaa7",
   "metadata": {},
   "outputs": [],
   "source": []
  },
  {
   "cell_type": "markdown",
   "id": "068099f1",
   "metadata": {},
   "source": [
    "Create Basic BarPlot Using Product line and Total\n"
   ]
  },
  {
   "cell_type": "code",
   "execution_count": null,
   "id": "e8277d45",
   "metadata": {},
   "outputs": [],
   "source": []
  },
  {
   "cell_type": "markdown",
   "id": "55c70e59",
   "metadata": {},
   "source": [
    "Add hue to get the count on two categories i.e. Product line and Gender"
   ]
  },
  {
   "cell_type": "code",
   "execution_count": null,
   "id": "a5e2fb67",
   "metadata": {},
   "outputs": [],
   "source": []
  },
  {
   "cell_type": "markdown",
   "id": "5a9fda3a",
   "metadata": {},
   "source": [
    "Make the barplot HORIZONTAL"
   ]
  },
  {
   "cell_type": "code",
   "execution_count": null,
   "id": "a2e76e30",
   "metadata": {},
   "outputs": [],
   "source": []
  },
  {
   "cell_type": "markdown",
   "id": "2fbc5761",
   "metadata": {},
   "source": [
    "Plot the bars in a alphabetical Order of Product line"
   ]
  },
  {
   "cell_type": "code",
   "execution_count": null,
   "id": "24c016d1",
   "metadata": {},
   "outputs": [],
   "source": []
  },
  {
   "cell_type": "markdown",
   "id": "753addce",
   "metadata": {},
   "source": [
    "Add CAP on the ERROR BAR [capsize=0.2]"
   ]
  },
  {
   "cell_type": "code",
   "execution_count": null,
   "id": "fea96ca6",
   "metadata": {},
   "outputs": [],
   "source": []
  },
  {
   "cell_type": "markdown",
   "id": "3c61cdd1",
   "metadata": {},
   "source": [
    "REMOVE the error bar using ci"
   ]
  },
  {
   "cell_type": "code",
   "execution_count": null,
   "id": "681b5027",
   "metadata": {},
   "outputs": [],
   "source": []
  },
  {
   "cell_type": "markdown",
   "id": "a4b52a05",
   "metadata": {},
   "source": [
    "Change bar colors using COLOR attribute"
   ]
  },
  {
   "cell_type": "code",
   "execution_count": null,
   "id": "0eb1399e",
   "metadata": {},
   "outputs": [],
   "source": []
  },
  {
   "cell_type": "markdown",
   "id": "696050bf",
   "metadata": {},
   "source": [
    "Change color using PALLETE and Saturation attributes"
   ]
  },
  {
   "cell_type": "code",
   "execution_count": null,
   "id": "5996f054",
   "metadata": {},
   "outputs": [],
   "source": []
  },
  {
   "cell_type": "markdown",
   "id": "de5d4c52",
   "metadata": {},
   "source": [
    "CHANGE DEFAULT AGGREGATION METHOD USING ESTIMATOR PARAMETER"
   ]
  },
  {
   "cell_type": "code",
   "execution_count": null,
   "id": "15298f23",
   "metadata": {},
   "outputs": [],
   "source": []
  }
 ],
 "metadata": {
  "kernelspec": {
   "display_name": "Python 3 (ipykernel)",
   "language": "python",
   "name": "python3"
  },
  "language_info": {
   "codemirror_mode": {
    "name": "ipython",
    "version": 3
   },
   "file_extension": ".py",
   "mimetype": "text/x-python",
   "name": "python",
   "nbconvert_exporter": "python",
   "pygments_lexer": "ipython3",
   "version": "3.9.7"
  }
 },
 "nbformat": 4,
 "nbformat_minor": 5
}
