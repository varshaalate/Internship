{
 "cells": [
  {
   "cell_type": "markdown",
   "id": "bd4ccac2",
   "metadata": {},
   "source": [
    "Load mart_train_sample.xlsx file DataSet"
   ]
  },
  {
   "cell_type": "code",
   "execution_count": 122,
   "id": "9261362d",
   "metadata": {},
   "outputs": [],
   "source": [
    "import pandas as pd\n",
    "import numpy as np\n",
    "import matplotlib.pyplot as plt\n",
    "import seaborn as sns\n",
    "import statistics as sts\n",
    "\n",
    "\n",
    "\n",
    "\n"
   ]
  },
  {
   "cell_type": "markdown",
   "id": "12279ffb",
   "metadata": {},
   "source": [
    "Create a basic SCATTER PLOT Using ITEM_MRP & Sales"
   ]
  },
  {
   "cell_type": "code",
   "execution_count": null,
   "id": "915dc99c",
   "metadata": {},
   "outputs": [],
   "source": []
  },
  {
   "cell_type": "markdown",
   "id": "9f2254ec",
   "metadata": {},
   "source": [
    "Grouping basis on a categorical variable Outlet_Size using HUE"
   ]
  },
  {
   "cell_type": "code",
   "execution_count": null,
   "id": "4969c67b",
   "metadata": {},
   "outputs": [],
   "source": []
  },
  {
   "cell_type": "markdown",
   "id": "2c2d3c89",
   "metadata": {},
   "source": [
    "Grouping basis on a categorical variable using STYLE and Styling Markers as well - markers={\"High\":\"^\",\"Small\":\"v\",\"Medium\":\"o\"} "
   ]
  },
  {
   "cell_type": "code",
   "execution_count": null,
   "id": "34589a94",
   "metadata": {},
   "outputs": [],
   "source": []
  },
  {
   "cell_type": "markdown",
   "id": "b880e529",
   "metadata": {},
   "source": [
    " Grouping basis on a categorical variable using HUE & STYLE both together"
   ]
  },
  {
   "cell_type": "code",
   "execution_count": null,
   "id": "352939d3",
   "metadata": {},
   "outputs": [],
   "source": []
  },
  {
   "cell_type": "markdown",
   "id": "b9772580",
   "metadata": {},
   "source": [
    "Grouping basis on a numeric variable using HUE & SIZE\n"
   ]
  },
  {
   "cell_type": "code",
   "execution_count": null,
   "id": "7cc44a9e",
   "metadata": {},
   "outputs": [],
   "source": [
    "\n"
   ]
  },
  {
   "cell_type": "markdown",
   "id": "d4bb5a10",
   "metadata": {},
   "source": [
    "Change the Marker size with S arguement ( s=500,color='red',edgecolor='black' )"
   ]
  },
  {
   "cell_type": "code",
   "execution_count": null,
   "id": "3a274beb",
   "metadata": {},
   "outputs": [],
   "source": []
  },
  {
   "cell_type": "code",
   "execution_count": null,
   "id": "2390af13",
   "metadata": {},
   "outputs": [],
   "source": []
  }
 ],
 "metadata": {
  "kernelspec": {
   "display_name": "Python 3 (ipykernel)",
   "language": "python",
   "name": "python3"
  },
  "language_info": {
   "codemirror_mode": {
    "name": "ipython",
    "version": 3
   },
   "file_extension": ".py",
   "mimetype": "text/x-python",
   "name": "python",
   "nbconvert_exporter": "python",
   "pygments_lexer": "ipython3",
   "version": "3.9.7"
  }
 },
 "nbformat": 4,
 "nbformat_minor": 5
}
