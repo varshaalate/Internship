{
 "cells": [
  {
   "cell_type": "markdown",
   "id": "a65cc348",
   "metadata": {},
   "source": [
    "Import Libraries & Dataset"
   ]
  },
  {
   "cell_type": "code",
   "execution_count": null,
   "id": "943f98a9",
   "metadata": {},
   "outputs": [],
   "source": []
  },
  {
   "cell_type": "markdown",
   "id": "a52f248e",
   "metadata": {},
   "source": [
    "Create a basic SWARM PLOT on one NUMERIC variable e.g. Total"
   ]
  },
  {
   "cell_type": "code",
   "execution_count": null,
   "id": "5c36e941",
   "metadata": {},
   "outputs": [],
   "source": []
  },
  {
   "cell_type": "markdown",
   "id": "407ca5d2",
   "metadata": {},
   "source": [
    "Create SWARM PLOT group by CATEGORIES"
   ]
  },
  {
   "cell_type": "code",
   "execution_count": null,
   "id": "c5b4f3a9",
   "metadata": {},
   "outputs": [],
   "source": []
  },
  {
   "cell_type": "markdown",
   "id": "f2742466",
   "metadata": {},
   "source": [
    "Showing Hues Separatly on the categorical axis"
   ]
  },
  {
   "cell_type": "code",
   "execution_count": null,
   "id": "f8194b9c",
   "metadata": {},
   "outputs": [],
   "source": []
  },
  {
   "cell_type": "markdown",
   "id": "7960e5c9",
   "metadata": {},
   "source": [
    "Styling a SWARM - Change the marker, size, color, edge color...."
   ]
  },
  {
   "cell_type": "code",
   "execution_count": null,
   "id": "8bc3bb71",
   "metadata": {},
   "outputs": [],
   "source": []
  },
  {
   "cell_type": "markdown",
   "id": "14eddefa",
   "metadata": {},
   "source": [
    "Overlay a SWARM PLOT on a VIOLIN PLOT"
   ]
  },
  {
   "cell_type": "code",
   "execution_count": null,
   "id": "262cf585",
   "metadata": {},
   "outputs": [],
   "source": []
  },
  {
   "cell_type": "markdown",
   "id": "4f6d958d",
   "metadata": {},
   "source": [
    "Overlay a SWARM PLOT on a BOX PLOT"
   ]
  },
  {
   "cell_type": "code",
   "execution_count": null,
   "id": "49d940b9",
   "metadata": {},
   "outputs": [],
   "source": []
  }
 ],
 "metadata": {
  "kernelspec": {
   "display_name": "Python 3 (ipykernel)",
   "language": "python",
   "name": "python3"
  },
  "language_info": {
   "codemirror_mode": {
    "name": "ipython",
    "version": 3
   },
   "file_extension": ".py",
   "mimetype": "text/x-python",
   "name": "python",
   "nbconvert_exporter": "python",
   "pygments_lexer": "ipython3",
   "version": "3.9.7"
  }
 },
 "nbformat": 4,
 "nbformat_minor": 5
}
