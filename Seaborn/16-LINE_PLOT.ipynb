{
 "cells": [
  {
   "cell_type": "markdown",
   "id": "acbe291e",
   "metadata": {},
   "source": [
    "Load mart_train_sample.xlsx file DataSet"
   ]
  },
  {
   "cell_type": "code",
   "execution_count": 134,
   "id": "7a08e3e5",
   "metadata": {},
   "outputs": [
    {
     "data": {
      "text/html": [
       "<div>\n",
       "<style scoped>\n",
       "    .dataframe tbody tr th:only-of-type {\n",
       "        vertical-align: middle;\n",
       "    }\n",
       "\n",
       "    .dataframe tbody tr th {\n",
       "        vertical-align: top;\n",
       "    }\n",
       "\n",
       "    .dataframe thead th {\n",
       "        text-align: right;\n",
       "    }\n",
       "</style>\n",
       "<table border=\"1\" class=\"dataframe\">\n",
       "  <thead>\n",
       "    <tr style=\"text-align: right;\">\n",
       "      <th></th>\n",
       "      <th>Item_ID</th>\n",
       "      <th>Item_W</th>\n",
       "      <th>Item_Type</th>\n",
       "      <th>Item_MRP</th>\n",
       "      <th>Outlet_ID</th>\n",
       "      <th>Outlet_Year</th>\n",
       "      <th>Outlet_Size</th>\n",
       "      <th>Outlet_Location_Type</th>\n",
       "      <th>Sales</th>\n",
       "      <th>Tier</th>\n",
       "    </tr>\n",
       "  </thead>\n",
       "  <tbody>\n",
       "    <tr>\n",
       "      <th>0</th>\n",
       "      <td>FDN27</td>\n",
       "      <td>9.437510</td>\n",
       "      <td>Snack Foods</td>\n",
       "      <td>195.313244</td>\n",
       "      <td>OUT046</td>\n",
       "      <td>1997</td>\n",
       "      <td>Small</td>\n",
       "      <td>Tier 1</td>\n",
       "      <td>897.085562</td>\n",
       "      <td>1</td>\n",
       "    </tr>\n",
       "    <tr>\n",
       "      <th>1</th>\n",
       "      <td>FDW35</td>\n",
       "      <td>9.033762</td>\n",
       "      <td>Fruits and Vegetables</td>\n",
       "      <td>36.371449</td>\n",
       "      <td>OUT035</td>\n",
       "      <td>2003</td>\n",
       "      <td>Small</td>\n",
       "      <td>Tier 2</td>\n",
       "      <td>1639.303513</td>\n",
       "      <td>2</td>\n",
       "    </tr>\n",
       "    <tr>\n",
       "      <th>2</th>\n",
       "      <td>FDS28</td>\n",
       "      <td>20.884849</td>\n",
       "      <td>Frozen Foods</td>\n",
       "      <td>70.318167</td>\n",
       "      <td>OUT013</td>\n",
       "      <td>2008</td>\n",
       "      <td>Small</td>\n",
       "      <td>Tier 1</td>\n",
       "      <td>2664.773737</td>\n",
       "      <td>1</td>\n",
       "    </tr>\n",
       "    <tr>\n",
       "      <th>3</th>\n",
       "      <td>FDC09</td>\n",
       "      <td>19.976300</td>\n",
       "      <td>Snack Foods</td>\n",
       "      <td>121.723264</td>\n",
       "      <td>OUT018</td>\n",
       "      <td>2009</td>\n",
       "      <td>Medium</td>\n",
       "      <td>Tier 3</td>\n",
       "      <td>440.859593</td>\n",
       "      <td>3</td>\n",
       "    </tr>\n",
       "    <tr>\n",
       "      <th>4</th>\n",
       "      <td>FDX04</td>\n",
       "      <td>10.824812</td>\n",
       "      <td>Snack Foods</td>\n",
       "      <td>264.673302</td>\n",
       "      <td>OUT035</td>\n",
       "      <td>2004</td>\n",
       "      <td>Small</td>\n",
       "      <td>Tier 1</td>\n",
       "      <td>29.807098</td>\n",
       "      <td>1</td>\n",
       "    </tr>\n",
       "  </tbody>\n",
       "</table>\n",
       "</div>"
      ],
      "text/plain": [
       "  Item_ID     Item_W              Item_Type    Item_MRP Outlet_ID  \\\n",
       "0   FDN27   9.437510            Snack Foods  195.313244    OUT046   \n",
       "1   FDW35   9.033762  Fruits and Vegetables   36.371449    OUT035   \n",
       "2   FDS28  20.884849           Frozen Foods   70.318167    OUT013   \n",
       "3   FDC09  19.976300            Snack Foods  121.723264    OUT018   \n",
       "4   FDX04  10.824812            Snack Foods  264.673302    OUT035   \n",
       "\n",
       "   Outlet_Year Outlet_Size Outlet_Location_Type        Sales  Tier  \n",
       "0         1997       Small               Tier 1   897.085562     1  \n",
       "1         2003       Small               Tier 2  1639.303513     2  \n",
       "2         2008       Small               Tier 1  2664.773737     1  \n",
       "3         2009      Medium               Tier 3   440.859593     3  \n",
       "4         2004       Small               Tier 1    29.807098     1  "
      ]
     },
     "execution_count": 134,
     "metadata": {},
     "output_type": "execute_result"
    }
   ],
   "source": [
    "import pandas as pd\n",
    "import numpy as np\n",
    "import matplotlib.pyplot as plt\n",
    "import seaborn as sns\n",
    "import statistics as sts\n",
    "\n",
    "df = pd.read_excel('D:\\DKTE - DAYWISE\\DAY 9\\mart_train_sample.xlsx')\n",
    "\n",
    "\n"
   ]
  },
  {
   "cell_type": "markdown",
   "id": "05cfb534",
   "metadata": {},
   "source": [
    "Creat a basic line plot and try different estimator\n",
    "height = [5, 6, 7, 6.5,4]\n",
    "age    = [22,25,30,25,25]"
   ]
  },
  {
   "cell_type": "code",
   "execution_count": null,
   "id": "8e9bbb12",
   "metadata": {},
   "outputs": [],
   "source": []
  },
  {
   "cell_type": "markdown",
   "id": "d67c9db1",
   "metadata": {},
   "source": [
    "Create LinePlot Using Outlet_Year & Sales Columns with ci & estimator values as None"
   ]
  },
  {
   "cell_type": "code",
   "execution_count": null,
   "id": "e60e4981",
   "metadata": {},
   "outputs": [],
   "source": []
  },
  {
   "cell_type": "markdown",
   "id": "9745e360",
   "metadata": {},
   "source": [
    "Test with different Confidence Intervals and with different number of Bootstraping"
   ]
  },
  {
   "cell_type": "code",
   "execution_count": null,
   "id": "840f8a87",
   "metadata": {},
   "outputs": [],
   "source": []
  },
  {
   "cell_type": "markdown",
   "id": "dd16ea49",
   "metadata": {},
   "source": [
    "Grouping using HUE - Outlet_Size and use different Palettes*"
   ]
  },
  {
   "cell_type": "code",
   "execution_count": null,
   "id": "58b0ce89",
   "metadata": {},
   "outputs": [],
   "source": [
    "\n"
   ]
  },
  {
   "cell_type": "markdown",
   "id": "238d43e3",
   "metadata": {},
   "source": [
    "Grouping using Size\n"
   ]
  },
  {
   "cell_type": "code",
   "execution_count": null,
   "id": "f8145634",
   "metadata": {},
   "outputs": [],
   "source": []
  },
  {
   "cell_type": "markdown",
   "id": "15fceb84",
   "metadata": {},
   "source": [
    "Use different semantic styling parameters on same or different variables"
   ]
  },
  {
   "cell_type": "code",
   "execution_count": null,
   "id": "6d6b6a75",
   "metadata": {},
   "outputs": [],
   "source": [
    "\n"
   ]
  },
  {
   "cell_type": "code",
   "execution_count": null,
   "id": "cec23063",
   "metadata": {},
   "outputs": [],
   "source": []
  }
 ],
 "metadata": {
  "kernelspec": {
   "display_name": "Python 3 (ipykernel)",
   "language": "python",
   "name": "python3"
  },
  "language_info": {
   "codemirror_mode": {
    "name": "ipython",
    "version": 3
   },
   "file_extension": ".py",
   "mimetype": "text/x-python",
   "name": "python",
   "nbconvert_exporter": "python",
   "pygments_lexer": "ipython3",
   "version": "3.9.7"
  }
 },
 "nbformat": 4,
 "nbformat_minor": 5
}
