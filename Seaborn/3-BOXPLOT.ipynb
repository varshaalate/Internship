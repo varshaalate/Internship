{
 "cells": [
  {
   "cell_type": "markdown",
   "id": "46d8e03e",
   "metadata": {},
   "source": [
    "Import Libraries & Dataset"
   ]
  },
  {
   "cell_type": "code",
   "execution_count": null,
   "id": "6a6b2559",
   "metadata": {},
   "outputs": [],
   "source": []
  },
  {
   "cell_type": "markdown",
   "id": "c7419275",
   "metadata": {},
   "source": [
    "Create a basic BOX plot on one NUMERIC variable e.g. Total"
   ]
  },
  {
   "cell_type": "code",
   "execution_count": null,
   "id": "a9e62fc0",
   "metadata": {},
   "outputs": [],
   "source": []
  },
  {
   "cell_type": "markdown",
   "id": "7e626835",
   "metadata": {},
   "source": [
    "Create a basic BOX plot on one numeric variable by a CATEGORICAL variable like Payment "
   ]
  },
  {
   "cell_type": "code",
   "execution_count": null,
   "id": "f4ea5c96",
   "metadata": {},
   "outputs": [],
   "source": []
  },
  {
   "cell_type": "markdown",
   "id": "ff65e1fb",
   "metadata": {},
   "source": [
    "Create a basic BOX plot on one numeric variable by TWO CATEGORICAL variable using HUE attribute"
   ]
  },
  {
   "cell_type": "code",
   "execution_count": null,
   "id": "136684f9",
   "metadata": {},
   "outputs": [],
   "source": []
  },
  {
   "cell_type": "markdown",
   "id": "add13a5a",
   "metadata": {},
   "source": [
    " Add MEAN marker in the box plot using Showmeans attribute and change its style using meanprops\n",
    " meanprops={\"marker\":\"o\",\"markerfacecolor\":\"white\",\"markersize\":\"10\",\"markeredgecolor\":\"black\"}"
   ]
  },
  {
   "cell_type": "code",
   "execution_count": null,
   "id": "ccbfc7ac",
   "metadata": {},
   "outputs": [],
   "source": []
  },
  {
   "cell_type": "markdown",
   "id": "a6177a07",
   "metadata": {},
   "source": [
    " Make HORIZONTAL box plot"
   ]
  },
  {
   "cell_type": "code",
   "execution_count": null,
   "id": "b0314362",
   "metadata": {},
   "outputs": [],
   "source": []
  },
  {
   "cell_type": "markdown",
   "id": "1348da26",
   "metadata": {},
   "source": [
    "Change PALETTE, LINE WIDTH etc.."
   ]
  },
  {
   "cell_type": "code",
   "execution_count": null,
   "id": "81db93dd",
   "metadata": {},
   "outputs": [],
   "source": []
  },
  {
   "cell_type": "code",
   "execution_count": null,
   "id": "2ee74f2f",
   "metadata": {},
   "outputs": [],
   "source": [
    "Create box plot for EACH OF THE NUMERIC VARIABLE in the dataframe"
   ]
  },
  {
   "cell_type": "code",
   "execution_count": null,
   "id": "be7f91a1",
   "metadata": {},
   "outputs": [],
   "source": []
  }
 ],
 "metadata": {
  "kernelspec": {
   "display_name": "Python 3 (ipykernel)",
   "language": "python",
   "name": "python3"
  },
  "language_info": {
   "codemirror_mode": {
    "name": "ipython",
    "version": 3
   },
   "file_extension": ".py",
   "mimetype": "text/x-python",
   "name": "python",
   "nbconvert_exporter": "python",
   "pygments_lexer": "ipython3",
   "version": "3.9.7"
  }
 },
 "nbformat": 4,
 "nbformat_minor": 5
}
