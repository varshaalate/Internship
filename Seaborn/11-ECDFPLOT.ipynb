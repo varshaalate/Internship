{
 "cells": [
  {
   "cell_type": "markdown",
   "id": "f1e24929",
   "metadata": {},
   "source": [
    "IMPORT DATA SET"
   ]
  },
  {
   "cell_type": "code",
   "execution_count": null,
   "id": "2fd43cee",
   "metadata": {},
   "outputs": [],
   "source": [
    "import pandas as pd\n",
    "import numpy as np\n",
    "import matplotlib.pyplot as plt\n",
    "import seaborn as sns\n",
    "import statistics as sts\n",
    "\n",
    "mart = pd.read_excel(r\"D:\\MSP\\supermarket_sales.xlsx\")\n"
   ]
  },
  {
   "cell_type": "markdown",
   "id": "64e94e36",
   "metadata": {},
   "source": [
    "DRAW ECDF PLOT - GROSS INCOME , STAT -COUNT , HUE - GENDER"
   ]
  },
  {
   "cell_type": "code",
   "execution_count": null,
   "id": "68c87885",
   "metadata": {},
   "outputs": [],
   "source": []
  },
  {
   "cell_type": "code",
   "execution_count": null,
   "id": "8e59341f",
   "metadata": {},
   "outputs": [],
   "source": []
  }
 ],
 "metadata": {
  "kernelspec": {
   "display_name": "Python 3 (ipykernel)",
   "language": "python",
   "name": "python3"
  },
  "language_info": {
   "codemirror_mode": {
    "name": "ipython",
    "version": 3
   },
   "file_extension": ".py",
   "mimetype": "text/x-python",
   "name": "python",
   "nbconvert_exporter": "python",
   "pygments_lexer": "ipython3",
   "version": "3.9.7"
  }
 },
 "nbformat": 4,
 "nbformat_minor": 5
}
