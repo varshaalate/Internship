{
 "cells": [
  {
   "cell_type": "markdown",
   "id": "9195a266",
   "metadata": {},
   "source": [
    "IMPORT DATA SET"
   ]
  },
  {
   "cell_type": "code",
   "execution_count": 47,
   "id": "9ec4ceb1",
   "metadata": {},
   "outputs": [],
   "source": [
    "\n"
   ]
  },
  {
   "cell_type": "markdown",
   "id": "56bc9a99",
   "metadata": {},
   "source": [
    "Create a basic HISTOGRAM on X or Y axis Using Total"
   ]
  },
  {
   "cell_type": "code",
   "execution_count": null,
   "id": "5eb82810",
   "metadata": {},
   "outputs": [],
   "source": []
  },
  {
   "cell_type": "markdown",
   "id": "81aed23c",
   "metadata": {},
   "source": [
    "Change the Bins Width using binwidth arguement"
   ]
  },
  {
   "cell_type": "code",
   "execution_count": null,
   "id": "15ae29ef",
   "metadata": {},
   "outputs": [],
   "source": []
  },
  {
   "cell_type": "markdown",
   "id": "97177a6c",
   "metadata": {},
   "source": [
    "Change Number of Bins and Interval"
   ]
  },
  {
   "cell_type": "code",
   "execution_count": null,
   "id": "1652a16c",
   "metadata": {},
   "outputs": [],
   "source": []
  },
  {
   "cell_type": "markdown",
   "id": "327469ea",
   "metadata": {},
   "source": [
    "Combine with KDE"
   ]
  },
  {
   "cell_type": "code",
   "execution_count": null,
   "id": "c98e3a21",
   "metadata": {},
   "outputs": [],
   "source": []
  },
  {
   "cell_type": "markdown",
   "id": "0ff9663b",
   "metadata": {},
   "source": [
    "Use a categorical variable in HUE and STACK it using MULTIPLE agruement"
   ]
  },
  {
   "cell_type": "code",
   "execution_count": null,
   "id": "5fb2ba38",
   "metadata": {},
   "outputs": [],
   "source": []
  },
  {
   "cell_type": "markdown",
   "id": "3501885b",
   "metadata": {},
   "source": [
    "Make it a step/poly plot using ELEMENT arguement and change the FILL*"
   ]
  },
  {
   "cell_type": "code",
   "execution_count": null,
   "id": "60c87b2c",
   "metadata": {},
   "outputs": [],
   "source": []
  },
  {
   "cell_type": "markdown",
   "id": "f1c7f05a",
   "metadata": {},
   "source": [
    "Use categorical variable and shrink it"
   ]
  },
  {
   "cell_type": "code",
   "execution_count": null,
   "id": "5cf84ca0",
   "metadata": {},
   "outputs": [],
   "source": []
  },
  {
   "cell_type": "markdown",
   "id": "191132dd",
   "metadata": {},
   "source": [
    "Create a Bivariate Histogram"
   ]
  },
  {
   "cell_type": "code",
   "execution_count": null,
   "id": "53ffceb1",
   "metadata": {},
   "outputs": [],
   "source": []
  },
  {
   "cell_type": "code",
   "execution_count": null,
   "id": "a243757b",
   "metadata": {},
   "outputs": [],
   "source": []
  }
 ],
 "metadata": {
  "kernelspec": {
   "display_name": "Python 3 (ipykernel)",
   "language": "python",
   "name": "python3"
  },
  "language_info": {
   "codemirror_mode": {
    "name": "ipython",
    "version": 3
   },
   "file_extension": ".py",
   "mimetype": "text/x-python",
   "name": "python",
   "nbconvert_exporter": "python",
   "pygments_lexer": "ipython3",
   "version": "3.9.7"
  }
 },
 "nbformat": 4,
 "nbformat_minor": 5
}
