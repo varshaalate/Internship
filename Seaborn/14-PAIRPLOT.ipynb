{
 "cells": [
  {
   "cell_type": "markdown",
   "id": "6b57b2b0",
   "metadata": {},
   "source": [
    "IMPORT DATA SET"
   ]
  },
  {
   "cell_type": "code",
   "execution_count": 79,
   "id": "406203f7",
   "metadata": {},
   "outputs": [],
   "source": [
    "import pandas as pd\n",
    "import numpy as np\n",
    "import matplotlib.pyplot as plt\n",
    "import seaborn as sns\n",
    "import statistics as sts\n",
    "\n",
    "pd.set_option(\"display.max_columns\",None)\n",
    "iris = sns.load_dataset('iris')\n",
    "\n"
   ]
  },
  {
   "cell_type": "markdown",
   "id": "6e2c00a2",
   "metadata": {},
   "source": [
    "Creating a basic PAIR PLOT"
   ]
  },
  {
   "cell_type": "code",
   "execution_count": null,
   "id": "f3322ee3",
   "metadata": {},
   "outputs": [],
   "source": []
  },
  {
   "cell_type": "markdown",
   "id": "22fd7171",
   "metadata": {},
   "source": [
    "Changing the diagonal plot KIND to KDE, HIST or None using diag_kind"
   ]
  },
  {
   "cell_type": "code",
   "execution_count": null,
   "id": "41937d76",
   "metadata": {},
   "outputs": [],
   "source": []
  },
  {
   "cell_type": "markdown",
   "id": "d5b8bf03",
   "metadata": {},
   "source": [
    "Changing the non diagonal plot KIND to scatter, kde, hist or reg"
   ]
  },
  {
   "cell_type": "code",
   "execution_count": null,
   "id": "99ffbdfb",
   "metadata": {},
   "outputs": [],
   "source": []
  },
  {
   "cell_type": "markdown",
   "id": "3ea2df73",
   "metadata": {},
   "source": [
    "Adding hue to the PAIR PLOT [species ]"
   ]
  },
  {
   "cell_type": "code",
   "execution_count": null,
   "id": "b95c6145",
   "metadata": {},
   "outputs": [],
   "source": []
  },
  {
   "cell_type": "markdown",
   "id": "d2e4b5cf",
   "metadata": {},
   "source": [
    "Creating PAIR PLOT for specific list of variables (diag_kind=None , xvars=[...] , yvars=[...])"
   ]
  },
  {
   "cell_type": "code",
   "execution_count": null,
   "id": "674e28fe",
   "metadata": {},
   "outputs": [],
   "source": [
    "sns.pairplot(data=iris,x_vars=['sepal_width','petal_width','petal_length'],y_vars=['sepal_length','sepal_width'],diag_kind=None)"
   ]
  },
  {
   "cell_type": "markdown",
   "id": "20de2601",
   "metadata": {},
   "source": [
    "Showing only the lower triangle using CORNOR arguement"
   ]
  },
  {
   "cell_type": "code",
   "execution_count": null,
   "id": "b96171f8",
   "metadata": {},
   "outputs": [],
   "source": [
    "sns.pairplot(data=iris,corner=True)"
   ]
  },
  {
   "cell_type": "markdown",
   "id": "e5e397ac",
   "metadata": {},
   "source": [
    " Making changes specific to Diagonal and Non-Diagonal plots separatly"
   ]
  },
  {
   "cell_type": "code",
   "execution_count": null,
   "id": "7f8b9a21",
   "metadata": {},
   "outputs": [],
   "source": [
    "sns.pairplot(data=iris,diag_kws=dict(color='green',kde=True)\n",
    "            ,plot_kws=dict(color='red',marker=10,s=100))"
   ]
  },
  {
   "cell_type": "markdown",
   "id": "96b4c43e",
   "metadata": {},
   "source": [
    "Creating KDE plot on top of the PAIR PLOT using map_lower or upper"
   ]
  },
  {
   "cell_type": "code",
   "execution_count": null,
   "id": "3b30c01d",
   "metadata": {},
   "outputs": [],
   "source": [
    "l=sns.pairplot(data=iris,plot_kws=dict(color='red'))\n",
    "l.map_upper(sns.kdeplot)\n",
    "l.map_lower(sns.kdeplot)"
   ]
  },
  {
   "cell_type": "code",
   "execution_count": null,
   "id": "6885241b",
   "metadata": {},
   "outputs": [],
   "source": []
  }
 ],
 "metadata": {
  "kernelspec": {
   "display_name": "Python 3 (ipykernel)",
   "language": "python",
   "name": "python3"
  },
  "language_info": {
   "codemirror_mode": {
    "name": "ipython",
    "version": 3
   },
   "file_extension": ".py",
   "mimetype": "text/x-python",
   "name": "python",
   "nbconvert_exporter": "python",
   "pygments_lexer": "ipython3",
   "version": "3.9.7"
  }
 },
 "nbformat": 4,
 "nbformat_minor": 5
}
