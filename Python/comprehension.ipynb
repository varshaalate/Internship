{
  "nbformat": 4,
  "nbformat_minor": 0,
  "metadata": {
    "colab": {
      "provenance": [],
      "collapsed_sections": []
    },
    "kernelspec": {
      "name": "python3",
      "display_name": "Python 3"
    },
    "language_info": {
      "name": "python"
    }
  },
  "cells": [
    {
      "cell_type": "code",
      "metadata": {
        "colab": {
          "base_uri": "https://localhost:8080/"
        },
        "id": "VoliaApbLBEw",
        "outputId": "9e4111c7-60ed-4f43-8abf-9db01c9a703b"
      },
      "source": [
        "s=[var for var in range(1200,2000,130)]\n",
        "print(s)"
      ],
      "execution_count": null,
      "outputs": [
        {
          "output_type": "stream",
          "name": "stdout",
          "text": [
            "[1200, 1330, 1460, 1590, 1720, 1850, 1980]\n"
          ]
        }
      ]
    },
    {
      "cell_type": "code",
      "metadata": {
        "colab": {
          "base_uri": "https://localhost:8080/"
        },
        "id": "fbS4TflnL6ih",
        "outputId": "748ed55a-2b4a-4c55-a6b5-297c9c68638a"
      },
      "source": [
        "list=[2,4,6,7,8]\n",
        "a=[i**2 for i in list ]\n",
        "print(a)"
      ],
      "execution_count": null,
      "outputs": [
        {
          "output_type": "stream",
          "name": "stdout",
          "text": [
            "[4, 16, 36, 49, 64]\n"
          ]
        }
      ]
    },
    {
      "cell_type": "code",
      "metadata": {
        "colab": {
          "base_uri": "https://localhost:8080/"
        },
        "id": "hpJtEsRzMaZR",
        "outputId": "864f0db8-ac5e-40f6-cbd2-0c763f14796f"
      },
      "source": [
        "list=[3,6,4,8,9]\n",
        "l=[i**2 for i in list if i**2>50 ]\n",
        "print(l)"
      ],
      "execution_count": null,
      "outputs": [
        {
          "output_type": "stream",
          "name": "stdout",
          "text": [
            "[64, 81]\n"
          ]
        }
      ]
    },
    {
      "cell_type": "code",
      "metadata": {
        "colab": {
          "base_uri": "https://localhost:8080/"
        },
        "id": "o8l_mDf-NQFV",
        "outputId": "fb07c107-f2fb-46cf-9f3d-b784260ef8a7"
      },
      "source": [
        "list=['mango','kiwi','straberry','guva']\n",
        "l=[i.capitalize() for i in list ]\n",
        "print(l)"
      ],
      "execution_count": null,
      "outputs": [
        {
          "output_type": "stream",
          "name": "stdout",
          "text": [
            "['Mango', 'Kiwi', 'Straberry', 'Guva']\n"
          ]
        }
      ]
    },
    {
      "cell_type": "code",
      "metadata": {
        "colab": {
          "base_uri": "https://localhost:8080/"
        },
        "id": "ETnfaTEROLHh",
        "outputId": "bcb447c2-a067-4268-bef8-bc48af4613da"
      },
      "source": [
        "list1=[2,4.5,6,7.4,8,8.5]\n",
        "l=[round(i) for i in list1 ]\n",
        "print(l)"
      ],
      "execution_count": null,
      "outputs": [
        {
          "output_type": "stream",
          "name": "stdout",
          "text": [
            "[2, 4, 6, 7, 8, 8]\n"
          ]
        }
      ]
    },
    {
      "cell_type": "code",
      "metadata": {
        "colab": {
          "base_uri": "https://localhost:8080/"
        },
        "id": "h4llV337QGJO",
        "outputId": "d102e6d6-fd73-4090-e675-0e2c4879be19"
      },
      "source": [
        "string=\"hello! how are you\"\n",
        "a=[s for s in string  if s==\" \"]\n",
        "print(len(a))"
      ],
      "execution_count": null,
      "outputs": [
        {
          "output_type": "stream",
          "name": "stdout",
          "text": [
            "3\n"
          ]
        }
      ]
    },
    {
      "cell_type": "code",
      "metadata": {
        "colab": {
          "base_uri": "https://localhost:8080/"
        },
        "id": "hxLZZCvITEU7",
        "outputId": "6565eca9-3a6e-4f40-e1ff-e8b423d5c21b"
      },
      "source": [
        "list= 'what is going one'\n",
        "e=list.split()\n",
        "l=[i for i in e if len(i)>=4  ]\n",
        "print(l)"
      ],
      "execution_count": null,
      "outputs": [
        {
          "output_type": "stream",
          "name": "stdout",
          "text": [
            "['what', 'going']\n"
          ]
        }
      ]
    },
    {
      "cell_type": "code",
      "metadata": {
        "colab": {
          "base_uri": "https://localhost:8080/"
        },
        "id": "zNh_F6Y8UhV_",
        "outputId": "5732cfc4-9e77-4d5e-93da-571349075113"
      },
      "source": [
        "s=[i for i in range(100) if(i%2==0) if(i%5==0)]\n",
        "print(s)"
      ],
      "execution_count": null,
      "outputs": [
        {
          "output_type": "stream",
          "name": "stdout",
          "text": [
            "[0, 10, 20, 30, 40, 50, 60, 70, 80, 90]\n"
          ]
        }
      ]
    },
    {
      "cell_type": "code",
      "metadata": {
        "id": "GBYngfIEWwPE",
        "colab": {
          "base_uri": "https://localhost:8080/",
          "height": 136
        },
        "outputId": "1ec525bb-b7ff-4158-def7-67b7ef2d126c"
      },
      "source": [
        "m=[[1,2,3]\n",
        "   [4,5,6]\n",
        "   [7,8,9]]\n",
        "m1=[[0,0,0],[0,0,0],[0,0,0]]\n",
        "s=[c,r for c,r in range(3) m1[c][r]=m[r][c]]\n",
        "print(s)"
      ],
      "execution_count": null,
      "outputs": [
        {
          "output_type": "error",
          "ename": "SyntaxError",
          "evalue": "ignored",
          "traceback": [
            "\u001b[0;36m  File \u001b[0;32m\"<ipython-input-6-fb83e1989492>\"\u001b[0;36m, line \u001b[0;32m5\u001b[0m\n\u001b[0;31m    s=[c,r for c,r in range(3) m1[c][r]=m[r][c]]\u001b[0m\n\u001b[0m             ^\u001b[0m\n\u001b[0;31mSyntaxError\u001b[0m\u001b[0;31m:\u001b[0m invalid syntax\n"
          ]
        }
      ]
    },
    {
      "cell_type": "code",
      "metadata": {
        "id": "GnXXDvxV1bDL"
      },
      "source": [],
      "execution_count": null,
      "outputs": []
    }
  ]
}