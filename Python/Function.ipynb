{
  "nbformat": 4,
  "nbformat_minor": 0,
  "metadata": {
    "colab": {
      "provenance": [],
      "collapsed_sections": []
    },
    "kernelspec": {
      "name": "python3",
      "display_name": "Python 3"
    },
    "language_info": {
      "name": "python"
    }
  },
  "cells": [
    {
      "cell_type": "code",
      "metadata": {
        "colab": {
          "base_uri": "https://localhost:8080/"
        },
        "id": "vzBGKCEcYZR2",
        "outputId": "bdb38454-ec3d-4801-d389-b46ad3686053"
      },
      "source": [
        "s=input(\"Enter the string=\")\n",
        "def cal(s):\n",
        "  uc,ic=0,0\n",
        "  for c in s:\n",
        "    if c.isupper():\n",
        "      uc+=1 \n",
        "    else :\n",
        "      ic+=1\n",
        "  return ic,uc\n",
        "t=cal(s)\n",
        "print(\"Upper case:{} and lower case:{}\".format(t[1],t[0]))\n"
      ],
      "execution_count": 1,
      "outputs": [
        {
          "output_type": "stream",
          "name": "stdout",
          "text": [
            "Enter the string=Varsha\n",
            "Upper case:1 and lower case:5\n"
          ]
        }
      ]
    },
    {
      "cell_type": "code",
      "metadata": {
        "id": "wPEx6sk5bvUw",
        "colab": {
          "base_uri": "https://localhost:8080/"
        },
        "outputId": "9a866e77-445c-45da-8455-8dab31aefd1c"
      },
      "source": [
        "l1=[1,2,3,3,4,5,6,6]\n",
        "\n",
        "def list(l1):\n",
        "  l2=[]\n",
        "  for i in l1:\n",
        "      if i not in l2:\n",
        "         l2.append(i)\n",
        "  return l2\n",
        "t=list(l1)\n",
        "print(t)\n",
        "\n"
      ],
      "execution_count": 2,
      "outputs": [
        {
          "output_type": "stream",
          "name": "stdout",
          "text": [
            "[1, 2, 3, 4, 5, 6]\n"
          ]
        }
      ]
    },
    {
      "cell_type": "code",
      "metadata": {
        "id": "n_Tod8cXfWxq",
        "colab": {
          "base_uri": "https://localhost:8080/"
        },
        "outputId": "35c59736-e677-4ae7-9b85-e8fabd79740c"
      },
      "source": [
        "def paragramCheck(p):\n",
        "  s=\"abcdefghijklmnopqrstuvwxyz\"\n",
        "  for i in s:\n",
        "    if i not in p:\n",
        "      return False\n",
        "  return True\n",
        "if paragramCheck(\"shekiv\"):\n",
        "    print(\"yes\")\n",
        "else:\n",
        "     print(\"no\")"
      ],
      "execution_count": 3,
      "outputs": [
        {
          "output_type": "stream",
          "name": "stdout",
          "text": [
            "no\n"
          ]
        }
      ]
    },
    {
      "cell_type": "code",
      "metadata": {
        "id": "RcNAwkqRjLIS",
        "colab": {
          "base_uri": "https://localhost:8080/"
        },
        "outputId": "719e6f0b-99a8-4cd4-f053-dbb58157d869"
      },
      "source": [
        "def maximum(x,y,z):\n",
        "  \n",
        "   if x>y and x>z:\n",
        "      return x\n",
        "   elif y>x and y>z:\n",
        "       return x\n",
        "   else:\n",
        "     return z\n",
        "\n",
        "t=maximum(3,6,8)\n",
        "print(t)\n"
      ],
      "execution_count": 4,
      "outputs": [
        {
          "output_type": "stream",
          "name": "stdout",
          "text": [
            "8\n"
          ]
        }
      ]
    },
    {
      "cell_type": "code",
      "metadata": {
        "id": "aoDnazMA8Tta"
      },
      "source": [],
      "execution_count": null,
      "outputs": []
    }
  ]
}