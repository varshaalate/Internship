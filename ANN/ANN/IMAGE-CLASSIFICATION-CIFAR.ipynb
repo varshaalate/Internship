{
 "cells": [
  {
   "cell_type": "markdown",
   "metadata": {
    "id": "onlcy_i8oP09"
   },
   "source": [
    "Small Image Classification Using Convolutional Neural Network (CNN)\n",
    "Load Dataset"
   ]
  },
  {
   "cell_type": "code",
   "execution_count": 1,
   "metadata": {
    "colab": {
     "base_uri": "https://localhost:8080/"
    },
    "executionInfo": {
     "elapsed": 18937,
     "status": "ok",
     "timestamp": 1640793676704,
     "user": {
      "displayName": "Namrata Chougule",
      "photoUrl": "https://lh3.googleusercontent.com/a/default-user=s64",
      "userId": "12211585670245213619"
     },
     "user_tz": -330
    },
    "id": "RwKT3k3WoOiu",
    "outputId": "92452735-2842-49eb-e665-36a468dbe2ad"
   },
   "outputs": [
    {
     "name": "stdout",
     "output_type": "stream",
     "text": [
      "Downloading data from https://www.cs.toronto.edu/~kriz/cifar-10-python.tar.gz\n",
      "170500096/170498071 [==============================] - 11s 0us/step\n",
      "170508288/170498071 [==============================] - 11s 0us/step\n"
     ]
    }
   ],
   "source": [
    "import tensorflow as tf\n",
    "from tensorflow.keras import datasets, layers, models\n",
    "import matplotlib.pyplot as plt\n",
    "import numpy as np\n",
    "(X_train, y_train), (X_test,y_test) = datasets.cifar10.load_data()"
   ]
  },
  {
   "cell_type": "markdown",
   "metadata": {
    "id": "nfPKUVd-oPGF"
   },
   "source": [
    "y_train is a 2D array, for our classification having 1D array is good enough. so we will convert this to now 1D array"
   ]
  },
  {
   "cell_type": "code",
   "execution_count": 2,
   "metadata": {
    "executionInfo": {
     "elapsed": 548,
     "status": "ok",
     "timestamp": 1640793680783,
     "user": {
      "displayName": "Namrata Chougule",
      "photoUrl": "https://lh3.googleusercontent.com/a/default-user=s64",
      "userId": "12211585670245213619"
     },
     "user_tz": -330
    },
    "id": "R2kkeDdlowxb"
   },
   "outputs": [],
   "source": [
    "y_train = y_train.reshape(-1,)\n",
    "y_test = y_test.reshape(-1,)"
   ]
  },
  {
   "cell_type": "markdown",
   "metadata": {
    "id": "SVW5_kbQo1wb"
   },
   "source": [
    "DEFINE IMAGE CLASSES"
   ]
  },
  {
   "cell_type": "code",
   "execution_count": 3,
   "metadata": {
    "executionInfo": {
     "elapsed": 570,
     "status": "ok",
     "timestamp": 1640793686215,
     "user": {
      "displayName": "Namrata Chougule",
      "photoUrl": "https://lh3.googleusercontent.com/a/default-user=s64",
      "userId": "12211585670245213619"
     },
     "user_tz": -330
    },
    "id": "WjkPnSvDo3Hq"
   },
   "outputs": [],
   "source": [
    "classes = [\"airplane\",\"automobile\",\"bird\",\"cat\",\"deer\",\"dog\",\"frog\",\"horse\",\"ship\",\"truck\"]"
   ]
  },
  {
   "cell_type": "markdown",
   "metadata": {
    "id": "aJ-S8o0To9EK"
   },
   "source": [
    "Let's plot some images to see what they are"
   ]
  },
  {
   "cell_type": "code",
   "execution_count": 4,
   "metadata": {
    "executionInfo": {
     "elapsed": 8,
     "status": "ok",
     "timestamp": 1640793688526,
     "user": {
      "displayName": "Namrata Chougule",
      "photoUrl": "https://lh3.googleusercontent.com/a/default-user=s64",
      "userId": "12211585670245213619"
     },
     "user_tz": -330
    },
    "id": "6bzb5m7eo9fK"
   },
   "outputs": [],
   "source": [
    "def plot_sample(X, y, index):\n",
    "    plt.figure(figsize = (15,2))\n",
    "    plt.imshow(X[index])\n",
    "    plt.xlabel(classes[y[index]])"
   ]
  },
  {
   "cell_type": "code",
   "execution_count": 5,
   "metadata": {
    "colab": {
     "base_uri": "https://localhost:8080/",
     "height": 173
    },
    "executionInfo": {
     "elapsed": 19,
     "status": "ok",
     "timestamp": 1640793691433,
     "user": {
      "displayName": "Namrata Chougule",
      "photoUrl": "https://lh3.googleusercontent.com/a/default-user=s64",
      "userId": "12211585670245213619"
     },
     "user_tz": -330
    },
    "id": "rVLmUtUAo_Sa",
    "outputId": "89a342ce-f65d-4a01-b4f4-ae79cbb4e763"
   },
   "outputs": [
    {
     "data": {
      "image/png": "[encoded data removed]",
      "text/plain": [
       "<Figure size 1080x144 with 1 Axes>"
      ]
     },
     "metadata": {
      "needs_background": "light"
     },
     "output_type": "display_data"
    }
   ],
   "source": [
    "plot_sample(X_train, y_train, 1)"
   ]
  },
  {
   "cell_type": "markdown",
   "metadata": {
    "id": "KH2ir9MupC-j"
   },
   "source": [
    "Normalizing the training data"
   ]
  },
  {
   "cell_type": "code",
   "execution_count": 6,
   "metadata": {
    "executionInfo": {
     "elapsed": 1305,
     "status": "ok",
     "timestamp": 1640793697886,
     "user": {
      "displayName": "Namrata Chougule",
      "photoUrl": "https://lh3.googleusercontent.com/a/default-user=s64",
      "userId": "12211585670245213619"
     },
     "user_tz": -330
    },
    "id": "D7JYIJPfpG1p"
   },
   "outputs": [],
   "source": [
    "X_train = X_train / 255.0\n",
    "X_test = X_test / 255.0"
   ]
  },
  {
   "cell_type": "markdown",
   "metadata": {
    "id": "mgcBiFI3pLBS"
   },
   "source": [
    "Build simple artificial neural network for image classification"
   ]
  },
  {
   "cell_type": "code",
   "execution_count": 7,
   "metadata": {
    "colab": {
     "base_uri": "https://localhost:8080/"
    },
    "executionInfo": {
     "elapsed": 528182,
     "status": "ok",
     "timestamp": 1640794232421,
     "user": {
      "displayName": "Namrata Chougule",
      "photoUrl": "https://lh3.googleusercontent.com/a/default-user=s64",
      "userId": "12211585670245213619"
     },
     "user_tz": -330
    },
    "id": "ByLfZ9p6pIVa",
    "outputId": "d96a6b7d-73ea-45d5-db1f-d9760b531a8c"
   },
   "outputs": [
    {
     "name": "stdout",
     "output_type": "stream",
     "text": [
      "Epoch 1/5\n",
      "1563/1563 [==============================] - 107s 68ms/step - loss: 1.8125 - accuracy: 0.3543\n",
      "Epoch 2/5\n",
      "1563/1563 [==============================] - 103s 66ms/step - loss: 1.6255 - accuracy: 0.4242\n",
      "Epoch 3/5\n",
      "1563/1563 [==============================] - 105s 67ms/step - loss: 1.5432 - accuracy: 0.4563\n",
      "Epoch 4/5\n",
      "1563/1563 [==============================] - 105s 67ms/step - loss: 1.4842 - accuracy: 0.4798\n",
      "Epoch 5/5\n",
      "1563/1563 [==============================] - 107s 68ms/step - loss: 1.4343 - accuracy: 0.4940\n"
     ]
    },
    {
     "data": {
      "text/plain": [
       "<keras.callbacks.History at 0x7fd896ef39d0>"
      ]
     },
     "execution_count": 7,
     "metadata": {},
     "output_type": "execute_result"
    }
   ],
   "source": [
    "ann = models.Sequential([\n",
    "        layers.Flatten(input_shape=(32,32,3)),\n",
    "        layers.Dense(3000, activation='relu'),\n",
    "        layers.Dense(1000, activation='relu'),\n",
    "        layers.Dense(10, activation='softmax')    \n",
    "    ])\n",
    "\n",
    "ann.compile(optimizer='SGD',\n",
    "              loss='sparse_categorical_crossentropy',\n",
    "              metrics=['accuracy'])\n",
    "\n",
    "ann.fit(X_train, y_train, epochs=5)"
   ]
  },
  {
   "cell_type": "markdown",
   "metadata": {
    "id": "pixfsQg-pWPR"
   },
   "source": [
    "You can see that at the end of 5 epochs, accuracy is at around 49%"
   ]
  },
  {
   "cell_type": "code",
   "execution_count": 8,
   "metadata": {
    "colab": {
     "base_uri": "https://localhost:8080/"
    },
    "executionInfo": {
     "elapsed": 12823,
     "status": "ok",
     "timestamp": 1640797726909,
     "user": {
      "displayName": "Namrata Chougule",
      "photoUrl": "https://lh3.googleusercontent.com/a/default-user=s64",
      "userId": "12211585670245213619"
     },
     "user_tz": -330
    },
    "id": "uYi-1W36pKHa",
    "outputId": "c1ee8872-b899-4527-beab-d67e53cfa958"
   },
   "outputs": [
    {
     "name": "stdout",
     "output_type": "stream",
     "text": [
      "Classification Report: \n",
      "               precision    recall  f1-score   support\n",
      "\n",
      "           0       0.50      0.64      0.56      1000\n",
      "           1       0.40      0.84      0.54      1000\n",
      "           2       0.43      0.26      0.33      1000\n",
      "           3       0.31      0.42      0.36      1000\n",
      "           4       0.50      0.31      0.38      1000\n",
      "           5       0.31      0.46      0.37      1000\n",
      "           6       0.59      0.42      0.49      1000\n",
      "           7       0.65      0.44      0.52      1000\n",
      "           8       0.69      0.45      0.55      1000\n",
      "           9       0.68      0.33      0.44      1000\n",
      "\n",
      "    accuracy                           0.46     10000\n",
      "   macro avg       0.50      0.46      0.45     10000\n",
      "weighted avg       0.50      0.46      0.45     10000\n",
      "\n"
     ]
    }
   ],
   "source": [
    "from sklearn.metrics import confusion_matrix , classification_report\n",
    "import numpy as np\n",
    "y_pred = ann.predict(X_test)\n",
    "y_pred_classes = [np.argmax(element) for element in y_pred]\n",
    "\n",
    "print(\"Classification Report: \\n\", classification_report(y_test, y_pred_classes))"
   ]
  },
  {
   "cell_type": "markdown",
   "metadata": {
    "id": "r_9kd7jVpZ_B"
   },
   "source": [
    "Now let us build a convolutional neural network to train our images"
   ]
  },
  {
   "cell_type": "code",
   "execution_count": 9,
   "metadata": {
    "colab": {
     "base_uri": "https://localhost:8080/"
    },
    "executionInfo": {
     "elapsed": 636255,
     "status": "ok",
     "timestamp": 1640798372700,
     "user": {
      "displayName": "Namrata Chougule",
      "photoUrl": "https://lh3.googleusercontent.com/a/default-user=s64",
      "userId": "12211585670245213619"
     },
     "user_tz": -330
    },
    "id": "3nf9E8I6pccS",
    "outputId": "908fa094-cacc-4d44-d34f-94c1560e475e"
   },
   "outputs": [
    {
     "name": "stdout",
     "output_type": "stream",
     "text": [
      "Epoch 1/10\n",
      "1563/1563 [==============================] - 65s 41ms/step - loss: 1.4426 - accuracy: 0.4848\n",
      "Epoch 2/10\n",
      "1563/1563 [==============================] - 66s 42ms/step - loss: 1.1034 - accuracy: 0.6158\n",
      "Epoch 3/10\n",
      "1563/1563 [==============================] - 63s 41ms/step - loss: 0.9783 - accuracy: 0.6594\n",
      "Epoch 4/10\n",
      "1563/1563 [==============================] - 63s 40ms/step - loss: 0.9016 - accuracy: 0.6858\n",
      "Epoch 5/10\n",
      "1563/1563 [==============================] - 63s 40ms/step - loss: 0.8399 - accuracy: 0.7091\n",
      "Epoch 6/10\n",
      "1563/1563 [==============================] - 63s 40ms/step - loss: 0.7847 - accuracy: 0.7281\n",
      "Epoch 7/10\n",
      "1563/1563 [==============================] - 63s 40ms/step - loss: 0.7368 - accuracy: 0.7443\n",
      "Epoch 8/10\n",
      "1563/1563 [==============================] - 63s 40ms/step - loss: 0.6975 - accuracy: 0.7565\n",
      "Epoch 9/10\n",
      "1563/1563 [==============================] - 63s 40ms/step - loss: 0.6568 - accuracy: 0.7712\n",
      "Epoch 10/10\n",
      "1563/1563 [==============================] - 63s 40ms/step - loss: 0.6196 - accuracy: 0.7816\n"
     ]
    },
    {
     "data": {
      "text/plain": [
       "<keras.callbacks.History at 0x7fd89452c350>"
      ]
     },
     "execution_count": 9,
     "metadata": {},
     "output_type": "execute_result"
    }
   ],
   "source": [
    "cnn = models.Sequential([\n",
    "    layers.Conv2D(filters=32, kernel_size=(3, 3), activation='relu', input_shape=(32, 32, 3)),\n",
    "    layers.MaxPooling2D((2, 2)),\n",
    "    \n",
    "    layers.Conv2D(filters=64, kernel_size=(3, 3), activation='relu'),\n",
    "    layers.MaxPooling2D((2, 2)),\n",
    "    \n",
    "    layers.Flatten(),\n",
    "    layers.Dense(64, activation='relu'),\n",
    "    layers.Dense(10, activation='softmax')\n",
    "])\n",
    "\n",
    "cnn.compile(optimizer='adam',\n",
    "              loss='sparse_categorical_crossentropy',\n",
    "              metrics=['accuracy'])\n",
    "\n",
    "cnn.fit(X_train, y_train, epochs=10)"
   ]
  },
  {
   "cell_type": "markdown",
   "metadata": {
    "id": "YRHGfOacpk7B"
   },
   "source": [
    "With CNN, at the end 5 epochs, accuracy was at around 70% which is a significant improvement over ANN. CNN's are best for image classification and gives superb accuracy. Also computation is much less compared to simple ANN as maxpooling reduces the image dimensions while still preserving the features"
   ]
  },
  {
   "cell_type": "code",
   "execution_count": 10,
   "metadata": {
    "colab": {
     "base_uri": "https://localhost:8080/"
    },
    "executionInfo": {
     "elapsed": 5246,
     "status": "ok",
     "timestamp": 1640798434383,
     "user": {
      "displayName": "Namrata Chougule",
      "photoUrl": "https://lh3.googleusercontent.com/a/default-user=s64",
      "userId": "12211585670245213619"
     },
     "user_tz": -330
    },
    "id": "ph8S2aegplbI",
    "outputId": "d2bc2bb4-0e26-4d01-9a25-dfb559bbebaf"
   },
   "outputs": [
    {
     "name": "stdout",
     "output_type": "stream",
     "text": [
      "313/313 [==============================] - 4s 13ms/step - loss: 0.9250 - accuracy: 0.6985\n"
     ]
    },
    {
     "data": {
      "text/plain": [
       "[0.9250257015228271, 0.6984999775886536]"
      ]
     },
     "execution_count": 10,
     "metadata": {},
     "output_type": "execute_result"
    }
   ],
   "source": [
    "cnn.evaluate(X_test,y_test)"
   ]
  },
  {
   "cell_type": "code",
   "execution_count": 11,
   "metadata": {
    "colab": {
     "base_uri": "https://localhost:8080/"
    },
    "executionInfo": {
     "elapsed": 4415,
     "status": "ok",
     "timestamp": 1640798441553,
     "user": {
      "displayName": "Namrata Chougule",
      "photoUrl": "https://lh3.googleusercontent.com/a/default-user=s64",
      "userId": "12211585670245213619"
     },
     "user_tz": -330
    },
    "id": "2Kcg_vJ4pn6x",
    "outputId": "f55b3b35-ebe5-4cb6-9b8f-c5eaf124b740"
   },
   "outputs": [
    {
     "data": {
      "text/plain": [
       "array([[6.39421807e-04, 1.15195144e-04, 1.14235980e-03, 9.42686915e-01,\n",
       "        2.91518896e-04, 4.10066955e-02, 2.33962061e-03, 2.98043979e-05,\n",
       "        8.21571238e-03, 3.53276730e-03],\n",
       "       [4.67205327e-03, 3.27642895e-02, 7.12062320e-06, 3.30610703e-07,\n",
       "        3.90519297e-08, 1.21409671e-09, 2.51272603e-08, 1.16975997e-07,\n",
       "        9.62179482e-01, 3.76614538e-04],\n",
       "       [4.70564812e-02, 3.98247689e-01, 1.41603558e-03, 1.17610022e-02,\n",
       "        1.45779597e-03, 2.62588292e-04, 3.89084395e-04, 3.78998811e-03,\n",
       "        5.24436116e-01, 1.11831957e-02],\n",
       "       [8.03314686e-01, 5.49220946e-03, 5.68046980e-03, 6.78816577e-04,\n",
       "        6.51780749e-04, 3.15499619e-06, 9.60877951e-05, 3.24474968e-05,\n",
       "        1.83944136e-01, 1.06175154e-04],\n",
       "       [3.97275301e-07, 1.78527344e-07, 1.20076071e-03, 8.09897319e-04,\n",
       "        2.21353248e-01, 3.23677872e-04, 7.76308954e-01, 1.48736333e-07,\n",
       "        2.80162453e-06, 6.46801857e-09]], dtype=float32)"
      ]
     },
     "execution_count": 11,
     "metadata": {},
     "output_type": "execute_result"
    }
   ],
   "source": [
    "y_pred = cnn.predict(X_test)\n",
    "y_pred[:5]"
   ]
  },
  {
   "cell_type": "code",
   "execution_count": 12,
   "metadata": {
    "colab": {
     "base_uri": "https://localhost:8080/"
    },
    "executionInfo": {
     "elapsed": 532,
     "status": "ok",
     "timestamp": 1640798446089,
     "user": {
      "displayName": "Namrata Chougule",
      "photoUrl": "https://lh3.googleusercontent.com/a/default-user=s64",
      "userId": "12211585670245213619"
     },
     "user_tz": -330
    },
    "id": "sZdx3A2apq2Y",
    "outputId": "24e26adb-c588-4462-ffb8-b1e9318da8dd"
   },
   "outputs": [
    {
     "data": {
      "text/plain": [
       "[3, 8, 8, 0, 6]"
      ]
     },
     "execution_count": 12,
     "metadata": {},
     "output_type": "execute_result"
    }
   ],
   "source": [
    "y_classes = [np.argmax(element) for element in y_pred]\n",
    "y_classes[:5]"
   ]
  },
  {
   "cell_type": "code",
   "execution_count": 13,
   "metadata": {
    "colab": {
     "base_uri": "https://localhost:8080/"
    },
    "executionInfo": {
     "elapsed": 599,
     "status": "ok",
     "timestamp": 1640798449707,
     "user": {
      "displayName": "Namrata Chougule",
      "photoUrl": "https://lh3.googleusercontent.com/a/default-user=s64",
      "userId": "12211585670245213619"
     },
     "user_tz": -330
    },
    "id": "FURJgMXEpsxB",
    "outputId": "6d319043-5f7d-4124-ddea-82a541bc3faa"
   },
   "outputs": [
    {
     "data": {
      "text/plain": [
       "array([3, 8, 8, 0, 6], dtype=uint8)"
      ]
     },
     "execution_count": 13,
     "metadata": {},
     "output_type": "execute_result"
    }
   ],
   "source": [
    "y_test[:5]"
   ]
  },
  {
   "cell_type": "code",
   "execution_count": 14,
   "metadata": {
    "colab": {
     "base_uri": "https://localhost:8080/",
     "height": 173
    },
    "executionInfo": {
     "elapsed": 748,
     "status": "ok",
     "timestamp": 1640798457271,
     "user": {
      "displayName": "Namrata Chougule",
      "photoUrl": "https://lh3.googleusercontent.com/a/default-user=s64",
      "userId": "12211585670245213619"
     },
     "user_tz": -330
    },
    "id": "5luhiLgjpuSY",
    "outputId": "9f37f798-32ca-4b1b-a0ff-f056cc667e33"
   },
   "outputs": [
    {
     "data": {
      "image/png": "[encoded data removed]",
      "text/plain": [
       "<Figure size 1080x144 with 1 Axes>"
      ]
     },
     "metadata": {
      "needs_background": "light"
     },
     "output_type": "display_data"
    }
   ],
   "source": [
    "plot_sample(X_test, y_test,3)"
   ]
  },
  {
   "cell_type": "code",
   "execution_count": 15,
   "metadata": {
    "colab": {
     "base_uri": "https://localhost:8080/",
     "height": 35
    },
    "executionInfo": {
     "elapsed": 535,
     "status": "ok",
     "timestamp": 1640798461980,
     "user": {
      "displayName": "Namrata Chougule",
      "photoUrl": "https://lh3.googleusercontent.com/a/default-user=s64",
      "userId": "12211585670245213619"
     },
     "user_tz": -330
    },
    "id": "5rCKrOoFpw5g",
    "outputId": "deb51b7b-31ae-4975-df1f-dcb744697e7e"
   },
   "outputs": [
    {
     "data": {
      "application/vnd.google.colaboratory.intrinsic+json": {
       "type": "string"
      },
      "text/plain": [
       "'airplane'"
      ]
     },
     "execution_count": 15,
     "metadata": {},
     "output_type": "execute_result"
    }
   ],
   "source": [
    "classes[y_classes[3]]"
   ]
  },
  {
   "cell_type": "code",
   "execution_count": null,
   "metadata": {
    "id": "4ygX8QnkNZrH"
   },
   "outputs": [],
   "source": []
  }
 ],
 "metadata": {
  "colab": {
   "collapsed_sections": [],
   "name": "IMAGE-CLASSIFICATION-CIFAR.ipynb",
   "provenance": []
  },
  "kernelspec": {
   "display_name": "Python 3",
   "language": "python",
   "name": "python3"
  },
  "language_info": {
   "codemirror_mode": {
    "name": "ipython",
    "version": 3
   },
   "file_extension": ".py",
   "mimetype": "text/x-python",
   "name": "python",
   "nbconvert_exporter": "python",
   "pygments_lexer": "ipython3",
   "version": "3.8.8"
  }
 },
 "nbformat": 4,
 "nbformat_minor": 1
}
