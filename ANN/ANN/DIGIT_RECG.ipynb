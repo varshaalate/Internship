{
 "cells": [
  {
   "cell_type": "markdown",
   "metadata": {
    "id": "I_w8Q7au-xVr"
   },
   "source": [
    "READ KERAS MNIST DATASET"
   ]
  },
  {
   "cell_type": "code",
   "execution_count": 1,
   "metadata": {
    "colab": {
     "base_uri": "https://localhost:8080/"
    },
    "executionInfo": {
     "elapsed": 3321,
     "status": "ok",
     "timestamp": 1641563525177,
     "user": {
      "displayName": "Namrata Chougule",
      "photoUrl": "https://lh3.googleusercontent.com/a/default-user=s64",
      "userId": "12211585670245213619"
     },
     "user_tz": -330
    },
    "id": "eZ2V_PQN9_LI",
    "outputId": "b897a82c-4a26-4632-816b-3beb7454b9af"
   },
   "outputs": [
    {
     "name": "stdout",
     "output_type": "stream",
     "text": [
      "Downloading data from https://storage.googleapis.com/tensorflow/tf-keras-datasets/mnist.npz\n",
      "11493376/11490434 [==============================] - 0s 0us/step\n",
      "11501568/11490434 [==============================] - 0s 0us/step\n"
     ]
    }
   ],
   "source": [
    "import tensorflow as tf\n",
    "from tensorflow import keras\n",
    "\n",
    "(X_train, y_train), (X_test, y_test) = keras.datasets.mnist.load_data()"
   ]
  },
  {
   "cell_type": "markdown",
   "metadata": {
    "id": "fXYSZqR0-0bj"
   },
   "source": [
    "CHECK FOR LEN & SHAPE OF TRAIN & TEST DATASET"
   ]
  },
  {
   "cell_type": "code",
   "execution_count": null,
   "metadata": {
    "id": "Q_PdNq5Z-7U5"
   },
   "outputs": [],
   "source": [
    "X_train.shape"
   ]
  },
  {
   "cell_type": "code",
   "execution_count": null,
   "metadata": {
    "colab": {
     "base_uri": "https://localhost:8080/"
    },
    "executionInfo": {
     "elapsed": 386,
     "status": "ok",
     "timestamp": 1640683349270,
     "user": {
      "displayName": "Namrata Chougule",
      "photoUrl": "https://lh3.googleusercontent.com/a/default-user=s64",
      "userId": "12211585670245213619"
     },
     "user_tz": -330
    },
    "id": "_XaD785u03B4",
    "outputId": "f205ee46-9c2b-468a-e411-95b0f1fd8cb6"
   },
   "outputs": [
    {
     "data": {
      "text/plain": [
       "60000"
      ]
     },
     "execution_count": 3,
     "metadata": {},
     "output_type": "execute_result"
    }
   ],
   "source": [
    "len(X_train)"
   ]
  },
  {
   "cell_type": "code",
   "execution_count": null,
   "metadata": {
    "colab": {
     "base_uri": "https://localhost:8080/"
    },
    "executionInfo": {
     "elapsed": 566,
     "status": "ok",
     "timestamp": 1640683352271,
     "user": {
      "displayName": "Namrata Chougule",
      "photoUrl": "https://lh3.googleusercontent.com/a/default-user=s64",
      "userId": "12211585670245213619"
     },
     "user_tz": -330
    },
    "id": "8mdY5dKM06BU",
    "outputId": "85c1b9aa-b79f-4296-9317-8477a210e0d3"
   },
   "outputs": [
    {
     "data": {
      "text/plain": [
       "10000"
      ]
     },
     "execution_count": 4,
     "metadata": {},
     "output_type": "execute_result"
    }
   ],
   "source": [
    "len(X_test)"
   ]
  },
  {
   "cell_type": "markdown",
   "metadata": {
    "id": "TUmls-rq-w2C"
   },
   "source": [
    "SHOW IMAGE USING plt.matshow function"
   ]
  },
  {
   "cell_type": "code",
   "execution_count": 2,
   "metadata": {
    "colab": {
     "base_uri": "https://localhost:8080/",
     "height": 294
    },
    "executionInfo": {
     "elapsed": 419,
     "status": "ok",
     "timestamp": 1641563529585,
     "user": {
      "displayName": "Namrata Chougule",
      "photoUrl": "https://lh3.googleusercontent.com/a/default-user=s64",
      "userId": "12211585670245213619"
     },
     "user_tz": -330
    },
    "id": "dBfMLdaa--43",
    "outputId": "825c5c0f-0ae8-4b9d-b8ff-c6f885358572"
   },
   "outputs": [
    {
     "data": {
      "text/plain": [
       "<matplotlib.image.AxesImage at 0x7ff229596110>"
      ]
     },
     "execution_count": 2,
     "metadata": {},
     "output_type": "execute_result"
    },
    {
     "data": {
      "image/png": "[encoded data removed]",
      "text/plain": [
       "<Figure size 288x288 with 1 Axes>"
      ]
     },
     "metadata": {
      "needs_background": "light"
     },
     "output_type": "display_data"
    }
   ],
   "source": [
    "import matplotlib.pyplot as plt\n",
    "plt.matshow(X_train[0])"
   ]
  },
  {
   "cell_type": "markdown",
   "metadata": {
    "id": "LPzFXEEz_FZW"
   },
   "source": [
    "FLATTEN XTRAIN & XTEST BY DIVIDING 255"
   ]
  },
  {
   "cell_type": "code",
   "execution_count": 3,
   "metadata": {
    "colab": {
     "base_uri": "https://localhost:8080/"
    },
    "executionInfo": {
     "elapsed": 399,
     "status": "ok",
     "timestamp": 1641563532242,
     "user": {
      "displayName": "Namrata Chougule",
      "photoUrl": "https://lh3.googleusercontent.com/a/default-user=s64",
      "userId": "12211585670245213619"
     },
     "user_tz": -330
    },
    "id": "ICs2pc1E_IJb",
    "outputId": "60123138-38aa-4f78-c833-896345269659"
   },
   "outputs": [
    {
     "data": {
      "text/plain": [
       "(60000, 784)"
      ]
     },
     "execution_count": 3,
     "metadata": {},
     "output_type": "execute_result"
    }
   ],
   "source": [
    "X_train = X_train/255\n",
    "X_train_flatten = X_train.reshape(len(X_train), 28*28)\n",
    "X_train_flatten.shape"
   ]
  },
  {
   "cell_type": "code",
   "execution_count": 4,
   "metadata": {
    "colab": {
     "base_uri": "https://localhost:8080/"
    },
    "executionInfo": {
     "elapsed": 372,
     "status": "ok",
     "timestamp": 1641563535207,
     "user": {
      "displayName": "Namrata Chougule",
      "photoUrl": "https://lh3.googleusercontent.com/a/default-user=s64",
      "userId": "12211585670245213619"
     },
     "user_tz": -330
    },
    "id": "APx2g1Mx1d0Z",
    "outputId": "e5ee678e-89ee-4c03-dc76-c56f68472251"
   },
   "outputs": [
    {
     "data": {
      "text/plain": [
       "(10000, 784)"
      ]
     },
     "execution_count": 4,
     "metadata": {},
     "output_type": "execute_result"
    }
   ],
   "source": [
    "X_test = X_test/255\n",
    "X_test_flatten = X_test.reshape(len(X_test), 28*28)\n",
    "X_test_flatten.shape"
   ]
  },
  {
   "cell_type": "markdown",
   "metadata": {
    "id": "GfDw_cei_I0M"
   },
   "source": [
    "CREATE SIMPLE NEURAL NETWORK"
   ]
  },
  {
   "cell_type": "code",
   "execution_count": 5,
   "metadata": {
    "executionInfo": {
     "elapsed": 398,
     "status": "ok",
     "timestamp": 1641563537990,
     "user": {
      "displayName": "Namrata Chougule",
      "photoUrl": "https://lh3.googleusercontent.com/a/default-user=s64",
      "userId": "12211585670245213619"
     },
     "user_tz": -330
    },
    "id": "Wr449Bi__PJr"
   },
   "outputs": [],
   "source": [
    "from keras.models import Sequential\n",
    "from keras.layers import Dense"
   ]
  },
  {
   "cell_type": "code",
   "execution_count": 6,
   "metadata": {
    "executionInfo": {
     "elapsed": 633,
     "status": "ok",
     "timestamp": 1641563539652,
     "user": {
      "displayName": "Namrata Chougule",
      "photoUrl": "https://lh3.googleusercontent.com/a/default-user=s64",
      "userId": "12211585670245213619"
     },
     "user_tz": -330
    },
    "id": "Bg1Z2suE17ci"
   },
   "outputs": [],
   "source": [
    "model = Sequential()\n",
    "model.add(Dense(10, input_shape=(784,), activation='sigmoid'))"
   ]
  },
  {
   "cell_type": "markdown",
   "metadata": {
    "id": "VZgDaAVS_PvM"
   },
   "source": [
    "COMPILE"
   ]
  },
  {
   "cell_type": "code",
   "execution_count": 7,
   "metadata": {
    "executionInfo": {
     "elapsed": 2,
     "status": "ok",
     "timestamp": 1641563540997,
     "user": {
      "displayName": "Namrata Chougule",
      "photoUrl": "https://lh3.googleusercontent.com/a/default-user=s64",
      "userId": "12211585670245213619"
     },
     "user_tz": -330
    },
    "id": "bzkOaOLb16xg"
   },
   "outputs": [],
   "source": [
    "model.compile(optimizer='adam', loss='sparse_categorical_crossentropy',metrics=['accuracy'])"
   ]
  },
  {
   "cell_type": "markdown",
   "metadata": {
    "id": "i8nN45_6_Qzc"
   },
   "source": [
    "FIT"
   ]
  },
  {
   "cell_type": "code",
   "execution_count": 8,
   "metadata": {
    "colab": {
     "base_uri": "https://localhost:8080/"
    },
    "executionInfo": {
     "elapsed": 21517,
     "status": "ok",
     "timestamp": 1641563564422,
     "user": {
      "displayName": "Namrata Chougule",
      "photoUrl": "https://lh3.googleusercontent.com/a/default-user=s64",
      "userId": "12211585670245213619"
     },
     "user_tz": -330
    },
    "id": "y6JkHbXj_RVL",
    "outputId": "5680c877-6c25-4c72-fc18-eb620c309ded"
   },
   "outputs": [
    {
     "name": "stdout",
     "output_type": "stream",
     "text": [
      "Epoch 1/5\n",
      "1875/1875 [==============================] - 4s 2ms/step - loss: 0.4671 - accuracy: 0.8776\n",
      "Epoch 2/5\n",
      "1875/1875 [==============================] - 3s 2ms/step - loss: 0.3041 - accuracy: 0.9152\n",
      "Epoch 3/5\n",
      "1875/1875 [==============================] - 3s 2ms/step - loss: 0.2835 - accuracy: 0.9206\n",
      "Epoch 4/5\n",
      "1875/1875 [==============================] - 3s 2ms/step - loss: 0.2729 - accuracy: 0.9241\n",
      "Epoch 5/5\n",
      "1875/1875 [==============================] - 3s 2ms/step - loss: 0.2665 - accuracy: 0.9262\n"
     ]
    },
    {
     "data": {
      "text/plain": [
       "<keras.callbacks.History at 0x7ff224f9fe90>"
      ]
     },
     "execution_count": 8,
     "metadata": {},
     "output_type": "execute_result"
    }
   ],
   "source": [
    "model.fit(X_train_flatten, y_train, epochs=5)"
   ]
  },
  {
   "cell_type": "markdown",
   "metadata": {
    "id": "j9PIIohl_Ryz"
   },
   "source": [
    "EVALUATE"
   ]
  },
  {
   "cell_type": "code",
   "execution_count": 9,
   "metadata": {
    "colab": {
     "base_uri": "https://localhost:8080/"
    },
    "executionInfo": {
     "elapsed": 879,
     "status": "ok",
     "timestamp": 1641563569131,
     "user": {
      "displayName": "Namrata Chougule",
      "photoUrl": "https://lh3.googleusercontent.com/a/default-user=s64",
      "userId": "12211585670245213619"
     },
     "user_tz": -330
    },
    "id": "PS8ktIBQ_Seb",
    "outputId": "599dc523-60cc-4417-a05f-d51bd4a0c521"
   },
   "outputs": [
    {
     "name": "stdout",
     "output_type": "stream",
     "text": [
      "313/313 [==============================] - 1s 2ms/step - loss: 0.2647 - accuracy: 0.9270\n"
     ]
    },
    {
     "data": {
      "text/plain": [
       "[0.2646845579147339, 0.9269999861717224]"
      ]
     },
     "execution_count": 9,
     "metadata": {},
     "output_type": "execute_result"
    }
   ],
   "source": [
    "model.evaluate(X_test_flatten, y_test)"
   ]
  },
  {
   "cell_type": "markdown",
   "metadata": {
    "id": "rZLHSeOV_TBz"
   },
   "source": [
    "PREDICT & CHECK WITH IMAGE \n",
    "\n",
    "np.argmax finds a maximum element from an array and returns the index of it"
   ]
  },
  {
   "cell_type": "code",
   "execution_count": 10,
   "metadata": {
    "colab": {
     "base_uri": "https://localhost:8080/"
    },
    "executionInfo": {
     "elapsed": 622,
     "status": "ok",
     "timestamp": 1641563571237,
     "user": {
      "displayName": "Namrata Chougule",
      "photoUrl": "https://lh3.googleusercontent.com/a/default-user=s64",
      "userId": "12211585670245213619"
     },
     "user_tz": -330
    },
    "id": "TvuOASOH7cyI",
    "outputId": "31073a8d-80ca-4259-ab8e-7cafec793e3a"
   },
   "outputs": [
    {
     "data": {
      "text/plain": [
       "array([[1.9332379e-02, 3.3740389e-07, 7.6180398e-02, ..., 9.9969351e-01,\n",
       "        1.0135254e-01, 6.0910404e-01],\n",
       "       [2.0261621e-01, 6.3276887e-03, 9.9940836e-01, ..., 8.4098462e-13,\n",
       "        2.3938221e-01, 2.5479392e-09],\n",
       "       [2.2205710e-04, 9.9382412e-01, 6.7557454e-01, ..., 1.3266119e-01,\n",
       "        4.3411884e-01, 5.4748327e-02],\n",
       "       ...,\n",
       "       [1.7260446e-06, 4.1660583e-06, 1.6046762e-03, ..., 1.4013457e-01,\n",
       "        5.4820281e-01, 7.5202173e-01],\n",
       "       [6.5077940e-05, 2.0444393e-04, 1.6084313e-04, ..., 2.7746521e-05,\n",
       "        7.1340322e-01, 1.3133883e-04],\n",
       "       [3.5859644e-03, 3.6647430e-10, 2.2641540e-01, ..., 1.5419914e-08,\n",
       "        2.8148293e-04, 6.9593807e-07]], dtype=float32)"
      ]
     },
     "execution_count": 10,
     "metadata": {},
     "output_type": "execute_result"
    }
   ],
   "source": [
    "y_predict = model.predict(X_test_flatten)\n",
    "y_predict"
   ]
  },
  {
   "cell_type": "code",
   "execution_count": 11,
   "metadata": {
    "colab": {
     "base_uri": "https://localhost:8080/"
    },
    "executionInfo": {
     "elapsed": 376,
     "status": "ok",
     "timestamp": 1641563574310,
     "user": {
      "displayName": "Namrata Chougule",
      "photoUrl": "https://lh3.googleusercontent.com/a/default-user=s64",
      "userId": "12211585670245213619"
     },
     "user_tz": -330
    },
    "id": "VPwnfGi9_dXW",
    "outputId": "7535e163-0a55-4514-8323-5b5591121827"
   },
   "outputs": [
    {
     "data": {
      "text/plain": [
       "7"
      ]
     },
     "execution_count": 11,
     "metadata": {},
     "output_type": "execute_result"
    }
   ],
   "source": [
    "import numpy as np\n",
    "np.argmax(y_predict[0])"
   ]
  },
  {
   "cell_type": "code",
   "execution_count": null,
   "metadata": {
    "colab": {
     "base_uri": "https://localhost:8080/",
     "height": 294
    },
    "executionInfo": {
     "elapsed": 391,
     "status": "ok",
     "timestamp": 1640683404262,
     "user": {
      "displayName": "Namrata Chougule",
      "photoUrl": "https://lh3.googleusercontent.com/a/default-user=s64",
      "userId": "12211585670245213619"
     },
     "user_tz": -330
    },
    "id": "cJq9ivVd_1Sl",
    "outputId": "7177f08f-52f8-4aab-ac1b-05a497585bb0"
   },
   "outputs": [
    {
     "data": {
      "text/plain": [
       "<matplotlib.image.AxesImage at 0x7f1632f9ee90>"
      ]
     },
     "execution_count": 15,
     "metadata": {},
     "output_type": "execute_result"
    },
    {
     "data": {
      "image/png": "[encoded data removed]",
      "text/plain": [
       "<Figure size 288x288 with 1 Axes>"
      ]
     },
     "metadata": {
      "needs_background": "light"
     },
     "output_type": "display_data"
    }
   ],
   "source": [
    "plt.matshow(X_test[0])"
   ]
  },
  {
   "cell_type": "markdown",
   "metadata": {
    "id": "Thl4hehY_lpv"
   },
   "source": [
    "CREATE LABELS\n",
    "\n",
    "y_predicted_labels = [np.argmax(i) for i in y_predicted]"
   ]
  },
  {
   "cell_type": "code",
   "execution_count": null,
   "metadata": {
    "id": "yksTwXBp_nHG"
   },
   "outputs": [],
   "source": [
    "y_predicted_labels = [np.argmax(i) for i in y_predict]\n",
    "y_predicted_labels"
   ]
  },
  {
   "cell_type": "markdown",
   "metadata": {
    "id": "OxAqDtJU_s__"
   },
   "source": [
    "DRAW HISTMAP"
   ]
  },
  {
   "cell_type": "code",
   "execution_count": null,
   "metadata": {
    "colab": {
     "base_uri": "https://localhost:8080/",
     "height": 460
    },
    "executionInfo": {
     "elapsed": 2293,
     "status": "ok",
     "timestamp": 1640683415319,
     "user": {
      "displayName": "Namrata Chougule",
      "photoUrl": "https://lh3.googleusercontent.com/a/default-user=s64",
      "userId": "12211585670245213619"
     },
     "user_tz": -330
    },
    "id": "283BzNdR_ub2",
    "outputId": "725f4bbf-6d0d-406a-d3d8-6d847e6b22f1"
   },
   "outputs": [
    {
     "data": {
      "text/plain": [
       "Text(69.0, 0.5, 'Truth')"
      ]
     },
     "execution_count": 17,
     "metadata": {},
     "output_type": "execute_result"
    },
    {
     "data": {
      "image/png": "[encoded data removed]",
      "text/plain": [
       "<Figure size 720x504 with 2 Axes>"
      ]
     },
     "metadata": {
      "needs_background": "light"
     },
     "output_type": "display_data"
    }
   ],
   "source": [
    "cm = tf.math.confusion_matrix(labels=y_test,predictions=y_predicted_labels)\n",
    "import seaborn as sn\n",
    "plt.figure(figsize = (10,7))\n",
    "sn.heatmap(cm, annot=True, fmt='d')\n",
    "plt.xlabel('Predicted')\n",
    "plt.ylabel('Truth')"
   ]
  },
  {
   "cell_type": "markdown",
   "metadata": {
    "id": "R1CrP6HW_6dH"
   },
   "source": [
    "USE HIDDEN LAYER & CHECK RESULTS\n"
   ]
  },
  {
   "cell_type": "code",
   "execution_count": null,
   "metadata": {
    "id": "xMYE0dVm_74m"
   },
   "outputs": [],
   "source": [
    "# model1 = Sequential()\n",
    "# model1.add(Dense(100, input_shape=(784,), activation='sigmoid'))\n",
    "# model1.add(Dense(10, activation='sigmoid'))\n",
    "\n",
    "model1 = keras.Sequential([\n",
    "        keras.layers.Flatten(input_shape=(28, 28)),\n",
    "        keras.layers.Dense(100, activation='sigmoid'),\n",
    "        keras.layers.Dense(10, activation='sigmoid'),   \n",
    "      ])"
   ]
  },
  {
   "cell_type": "markdown",
   "metadata": {
    "id": "qNE1-7S4AB3i"
   },
   "source": [
    "Using Flatten layer so that we don't have to call .reshape on input dataset"
   ]
  },
  {
   "cell_type": "markdown",
   "metadata": {
    "id": "ru2Ukpu9AGR9"
   },
   "source": [
    "model = keras.Sequential([\n",
    "    keras.layers.Flatten(input_shape=(28, 28)),\n",
    "    keras.layers.Dense(100, activation='relu'),\n",
    "    keras.layers.Dense(10, activation='sigmoid')\n",
    "])\n"
   ]
  },
  {
   "cell_type": "code",
   "execution_count": null,
   "metadata": {
    "colab": {
     "base_uri": "https://localhost:8080/"
    },
    "executionInfo": {
     "elapsed": 42367,
     "status": "ok",
     "timestamp": 1640683474012,
     "user": {
      "displayName": "Namrata Chougule",
      "photoUrl": "https://lh3.googleusercontent.com/a/default-user=s64",
      "userId": "12211585670245213619"
     },
     "user_tz": -330
    },
    "id": "xsFIRaOjAFeo",
    "outputId": "b860e9a7-6b78-4df7-bfe4-910cd76dab9a"
   },
   "outputs": [
    {
     "name": "stdout",
     "output_type": "stream",
     "text": [
      "Epoch 1/5\n",
      "1875/1875 [==============================] - 5s 2ms/step - loss: 0.4152 - accuracy: 0.8945\n",
      "Epoch 2/5\n",
      "1875/1875 [==============================] - 4s 2ms/step - loss: 0.2072 - accuracy: 0.9405\n",
      "Epoch 3/5\n",
      "1875/1875 [==============================] - 4s 2ms/step - loss: 0.1567 - accuracy: 0.9556\n",
      "Epoch 4/5\n",
      "1875/1875 [==============================] - 4s 2ms/step - loss: 0.1261 - accuracy: 0.9639\n",
      "Epoch 5/5\n",
      "1875/1875 [==============================] - 4s 2ms/step - loss: 0.1035 - accuracy: 0.9704\n",
      "313/313 [==============================] - 1s 1ms/step - loss: 0.1105 - accuracy: 0.9671\n"
     ]
    },
    {
     "data": {
      "text/plain": [
       "[0.11046187579631805, 0.9671000242233276]"
      ]
     },
     "execution_count": 19,
     "metadata": {},
     "output_type": "execute_result"
    }
   ],
   "source": [
    "model1.compile(optimizer='adam', loss='sparse_categorical_crossentropy',metrics=['accuracy'])\n",
    "model1.fit(X_train, y_train, epochs=5)\n",
    "model1.evaluate(X_test, y_test)"
   ]
  },
  {
   "cell_type": "code",
   "execution_count": null,
   "metadata": {
    "id": "XLx0MvehVYnP"
   },
   "outputs": [],
   "source": [
    "y_predict1 = model1.predict(X_test)"
   ]
  },
  {
   "cell_type": "code",
   "execution_count": null,
   "metadata": {
    "id": "GE_YmMlODWWh"
   },
   "outputs": [],
   "source": [
    "y_predicted_labels1 = [np.argmax(i) for i in y_predict1]"
   ]
  },
  {
   "cell_type": "code",
   "execution_count": null,
   "metadata": {
    "colab": {
     "base_uri": "https://localhost:8080/",
     "height": 460
    },
    "executionInfo": {
     "elapsed": 1132,
     "status": "ok",
     "timestamp": 1640683484636,
     "user": {
      "displayName": "Namrata Chougule",
      "photoUrl": "https://lh3.googleusercontent.com/a/default-user=s64",
      "userId": "12211585670245213619"
     },
     "user_tz": -330
    },
    "id": "UC1965jFDbuc",
    "outputId": "61a98518-f4a1-43d7-e434-4e3c1d67a8a6"
   },
   "outputs": [
    {
     "data": {
      "text/plain": [
       "Text(69.0, 0.5, 'Truth')"
      ]
     },
     "execution_count": 22,
     "metadata": {},
     "output_type": "execute_result"
    },
    {
     "data": {
      "image/png": "[encoded data removed]",
      "text/plain": [
       "<Figure size 720x504 with 2 Axes>"
      ]
     },
     "metadata": {
      "needs_background": "light"
     },
     "output_type": "display_data"
    }
   ],
   "source": [
    "cm = tf.math.confusion_matrix(labels=y_test,predictions=y_predicted_labels1)\n",
    "import seaborn as sn\n",
    "plt.figure(figsize = (10,7))\n",
    "sn.heatmap(cm, annot=True, fmt='d')\n",
    "plt.xlabel('Predicted')\n",
    "plt.ylabel('Truth')"
   ]
  },
  {
   "cell_type": "code",
   "execution_count": null,
   "metadata": {
    "id": "zlB-BwxoTP5A"
   },
   "outputs": [],
   "source": []
  }
 ],
 "metadata": {
  "colab": {
   "collapsed_sections": [],
   "name": "DIGIT_RECG.ipynb",
   "provenance": []
  },
  "kernelspec": {
   "display_name": "Python 3",
   "language": "python",
   "name": "python3"
  },
  "language_info": {
   "codemirror_mode": {
    "name": "ipython",
    "version": 3
   },
   "file_extension": ".py",
   "mimetype": "text/x-python",
   "name": "python",
   "nbconvert_exporter": "python",
   "pygments_lexer": "ipython3",
   "version": "3.8.8"
  }
 },
 "nbformat": 4,
 "nbformat_minor": 1
}
